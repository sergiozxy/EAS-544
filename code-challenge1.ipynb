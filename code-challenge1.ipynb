{
 "cells": [
  {
   "cell_type": "markdown",
   "metadata": {},
   "source": [
    "Group Challenge 1:\n",
    "\n",
    "Author: Xuyuan Zhang\n",
    "\n",
    "Date: Jan/16/2024"
   ]
  },
  {
   "cell_type": "markdown",
   "metadata": {},
   "source": [
    "Write a program which prompts the user for a measurement in inches, converts to centimeters, and prints out the converted measurement.\n"
   ]
  },
  {
   "cell_type": "code",
   "execution_count": 10,
   "metadata": {},
   "outputs": [],
   "source": [
    "def convert_in_to_cm():\n",
    "    inchs = float(input(\"Enter the length in inch: \"))\n",
    "    return (inchs * 2.54)"
   ]
  },
  {
   "cell_type": "code",
   "execution_count": 11,
   "metadata": {},
   "outputs": [
    {
     "data": {
      "text/plain": [
       "2.54"
      ]
     },
     "execution_count": 11,
     "metadata": {},
     "output_type": "execute_result"
    }
   ],
   "source": [
    "convert_in_to_cm()"
   ]
  },
  {
   "cell_type": "markdown",
   "metadata": {},
   "source": [
    "```\n",
    "Write a script that takes a user’s:\n",
    "Name\n",
    "Academic Program\n",
    "Job Title\n",
    "Email\n",
    "Phone number\n",
    " Returns an email signature\n",
    "\n",
    "```"
   ]
  },
  {
   "cell_type": "code",
   "execution_count": 14,
   "metadata": {},
   "outputs": [],
   "source": [
    "def introduce_yourself():\n",
    "    name = input(\"Enter your name: \")\n",
    "    academic_program = input(\"Enter the academic program that you are in: \")\n",
    "    job_title = input(\"Enter the job title: \")\n",
    "    email = input(\"Enter the email: \")\n",
    "    phone = input(\"Enter the phone number: \")\n",
    "    signature = f\"{name}\\n{academic_program} ||\\n{job_title} ||\\n{email} || {phone}\"\n",
    "    return signature"
   ]
  },
  {
   "cell_type": "code",
   "execution_count": 16,
   "metadata": {},
   "outputs": [
    {
     "name": "stdout",
     "output_type": "stream",
     "text": [
      "Xuyuan\n",
      "MAE 2023 ||\n",
      "BS ||\n",
      "zxuyuan@umich.edu || 734-489-4829\n"
     ]
    }
   ],
   "source": [
    "print(introduce_yourself())"
   ]
  },
  {
   "cell_type": "markdown",
   "metadata": {},
   "source": [
    "```\n",
    "Use this timeanddate.com site to calculate number of days you have been alive for.\n",
    "Can be done with variables\n",
    "Can be done with only values\n",
    "Can be done with a combination of variables and values\n",
    "\n",
    "```"
   ]
  },
  {
   "cell_type": "code",
   "execution_count": 20,
   "metadata": {},
   "outputs": [],
   "source": [
    "from datetime import datetime\n",
    "def calculate_day_and_seconds():\n",
    "    year = int(input(\"Enter your birthday year: \"))\n",
    "    month = int(input(\"Enter your birthday month: \"))\n",
    "    day = int(input(\"Enter your birthday day: \"))\n",
    "    birthday = datetime(year, month, day)\n",
    "    current_date = datetime.now()\n",
    "\n",
    "    # Calculate the number of days alive\n",
    "    days_alive = (current_date - birthday).days\n",
    "    seconds_per_day = 24 * 60 * 60\n",
    "\n",
    "    days_alive_seconds = days_alive * seconds_per_day\n",
    "    \n",
    "    return (days_alive,days_alive_seconds)"
   ]
  },
  {
   "cell_type": "code",
   "execution_count": 22,
   "metadata": {},
   "outputs": [
    {
     "name": "stdout",
     "output_type": "stream",
     "text": [
      "(8386, 724550400)\n"
     ]
    }
   ],
   "source": [
    "print(calculate_day_and_seconds()) # 2001, 01, 30"
   ]
  },
  {
   "cell_type": "markdown",
   "metadata": {},
   "source": [
    "```\n",
    "\n",
    "Create a Mad Libs Generator that takes\n",
    "3 nouns\n",
    "1 plural noun\n",
    "1 place\n",
    "1 adjective\n",
    "And outputs a mad lib…\n",
    "\n",
    "```\n",
    "\n",
    "```\n",
    "-----------------------------\n",
    "Be kind to your [NOUN 1] - footed [PLURAL NOUN]\n",
    "For a duck may be somebody's [NOUN 2] ,\n",
    "Be kind to your [PLURAL NOUN] in [PLACE]\n",
    "Where the weather is always [ADJECTIVE] .\n",
    "\n",
    "You may think that is this the [NOUN 3] ,\n",
    "Well it is.\n",
    "-----------------------------\n",
    "\n",
    "\n",
    "\n",
    "```"
   ]
  },
  {
   "cell_type": "code",
   "execution_count": 25,
   "metadata": {},
   "outputs": [],
   "source": [
    "def mad_lib_generator():\n",
    "\n",
    "    noun1 = input('Choose a noun: ')\n",
    "    plural_noun = input('Choose a plural noun: ')\n",
    "    noun2 = input('Choose a noun: ')\n",
    "    place = input('Name a place: ')\n",
    "    adjective = input('Choose an adjective (Describing word): ')\n",
    "    noun3 = input('Choose a noun: ')\n",
    "\n",
    "    mad_lib = (f\"-----------------------------\\n\"\n",
    "               f\"Be kind to your {noun1}-footed {plural_noun}\\n\"\n",
    "               f\"For a duck may be somebody's {noun2},\\n\"\n",
    "               f\"Be kind to your {plural_noun} in {place}\\n\"\n",
    "               f\"Where the weather is always {adjective}.\\n\\n\"\n",
    "               f\"You may think that this is the {noun3},\\n\"\n",
    "               f\"Well, it is.\\n\"\n",
    "               f\"-----------------------------\")\n",
    "    return mad_lib"
   ]
  },
  {
   "cell_type": "code",
   "execution_count": 26,
   "metadata": {},
   "outputs": [
    {
     "name": "stdout",
     "output_type": "stream",
     "text": [
      "-----------------------------\n",
      "Be kind to your 1-footed 2\n",
      "For a duck may be somebody's 3,\n",
      "Be kind to your 2 in 4\n",
      "Where the weather is always 5.\n",
      "\n",
      "You may think that this is the 6,\n",
      "Well, it is.\n",
      "-----------------------------\n"
     ]
    }
   ],
   "source": [
    "print(mad_lib_generator())"
   ]
  },
  {
   "cell_type": "code",
   "execution_count": null,
   "metadata": {},
   "outputs": [],
   "source": []
  }
 ],
 "metadata": {
  "kernelspec": {
   "display_name": "base",
   "language": "python",
   "name": "python3"
  },
  "language_info": {
   "codemirror_mode": {
    "name": "ipython",
    "version": 3
   },
   "file_extension": ".py",
   "mimetype": "text/x-python",
   "name": "python",
   "nbconvert_exporter": "python",
   "pygments_lexer": "ipython3",
   "version": "3.11.7"
  }
 },
 "nbformat": 4,
 "nbformat_minor": 2
}
