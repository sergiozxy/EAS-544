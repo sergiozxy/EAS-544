{
 "cells": [
  {
   "cell_type": "code",
   "execution_count": 3,
   "id": "0da73904",
   "metadata": {},
   "outputs": [
    {
     "name": "stdout",
     "output_type": "stream",
     "text": [
      "flint_foodpts_shapefile.zip Files extracted to: C:\\Users\\zxuyuan\\Downloads\\data\n",
      "grapids_foodpts_shapefile.zip Files extracted to: C:\\Users\\zxuyuan\\Downloads\\data\n"
     ]
    }
   ],
   "source": [
    "import os\n",
    "import zipfile\n",
    "\n",
    "# define the working directory\n",
    "os.chdir(r'C:\\Users\\zxuyuan\\Downloads\\data processing')\n",
    "\n",
    "# list the file names\n",
    "source_zip_file = ['flint_foodpts_shapefile.zip', 'grapids_foodpts_shapefile.zip']\n",
    "\n",
    "destination_directory = r'C:\\Users\\zxuyuan\\Downloads\\data'\n",
    "\n",
    "# create one if not exist\n",
    "if not os.path.exists(destination_directory):\n",
    "    os.makedirs(destination_directory)\n",
    "    \n",
    "for file in source_zip_file:\n",
    "    with zipfile.ZipFile(file, 'r') as zip_ref:\n",
    "        zip_ref.extractall(destination_directory)\n",
    "\n",
    "    print(\"{} Files extracted to:\".format(file), destination_directory)\n",
    "    "
   ]
  },
  {
   "cell_type": "code",
   "execution_count": 4,
   "id": "d906c2fc",
   "metadata": {},
   "outputs": [],
   "source": [
    "import arcpy\n",
    "\n",
    "#next we set up a workspace directory to the folder you unzipped\n",
    "arcpy.env.workspace = r\"C:\\Users\\zxuyuan\\Downloads\\data\"\n",
    "arcpy.env.overwriteOutput = True\n"
   ]
  },
  {
   "cell_type": "code",
   "execution_count": 5,
   "id": "8eb790a8",
   "metadata": {},
   "outputs": [
    {
     "name": "stdout",
     "output_type": "stream",
     "text": [
      "['flint_foodpts.shp', 'grapids_foodpts.shp']\n"
     ]
    }
   ],
   "source": [
    "## Use the ListFeatureClasses function to return a list of\n",
    "##  shapefiles.  The following code is copied from the help doc\n",
    "\n",
    "featureclasses = arcpy.ListFeatureClasses()\n",
    "print(featureclasses)"
   ]
  },
  {
   "cell_type": "code",
   "execution_count": 6,
   "id": "0c48a402",
   "metadata": {},
   "outputs": [
    {
     "name": "stdout",
     "output_type": "stream",
     "text": [
      "Sub-type fields updated successfully.\n"
     ]
    }
   ],
   "source": [
    "import arcpy\n",
    "\n",
    "# Set the input file path\n",
    "input_file = r\"flint_foodpts.shp\"\n",
    "\n",
    "# List of sub-types and their corresponding new field codes\n",
    "sub_types = {\n",
    "    \"American_Restaurant\": \"ram\",\n",
    "    \"Fast_Food\": \"fas\",\n",
    "    \"OTHER_Restaurant\": \"oth\",\n",
    "    \"Ethnic_Restaurant\": \"eth\",\n",
    "    \"CSA\": \"far\",\n",
    "    \"Produce_FarmersMkts\": \"frm\",\n",
    "    \"GroceryStore_Corner\": \"gro\",\n",
    "    \"Supercenters\": \"spc\",\n",
    "    \"Supermarket\": \"spm\",\n",
    "}\n",
    "\n",
    "# Add new fields for each sub-type\n",
    "for code in sub_types.values():\n",
    "    arcpy.AddField_management(input_file, code, \"SHORT\")\n",
    "\n",
    "# Update cursor to iterate through each row in the shapefile\n",
    "with arcpy.da.UpdateCursor(input_file, [\"Sub_Type\"] + list(sub_types.values())) as cursor:\n",
    "    for row in cursor:\n",
    "        sub_type = row[0]\n",
    "        for st, code in sub_types.items():\n",
    "            field_index = list(sub_types.values()).index(code) + 1  # Get the field's index in the row\n",
    "            row[field_index] = 1 if sub_type == st else 0\n",
    "        cursor.updateRow(row)\n",
    "\n",
    "print(\"Sub-type fields updated successfully.\")"
   ]
  },
  {
   "cell_type": "code",
   "execution_count": 7,
   "id": "62469ce0",
   "metadata": {},
   "outputs": [
    {
     "name": "stdout",
     "output_type": "stream",
     "text": [
      "Sub-type fields updated successfully.\n"
     ]
    }
   ],
   "source": [
    "import arcpy\n",
    "\n",
    "# Set the input file path\n",
    "input_file = r\"grapids_foodpts.shp\"\n",
    "\n",
    "# List of sub-types and their corresponding new field codes\n",
    "sub_types = {\n",
    "    \"American_Restaurant\": \"ram\",\n",
    "    \"Fast_Food\": \"fas\",\n",
    "    \"OTHER_Restaurant\": \"oth\",\n",
    "    \"Ethnic_Restaurant\": \"eth\",\n",
    "    \"CSA\": \"far\",\n",
    "    \"Produce_FarmersMkts\": \"frm\",\n",
    "    \"GroceryStore_Corner\": \"gro\",\n",
    "    \"Supercenters\": \"spc\",\n",
    "    \"Supermarket\": \"spm\",\n",
    "}\n",
    "\n",
    "# Add new fields for each sub-type\n",
    "for code in sub_types.values():\n",
    "    arcpy.AddField_management(input_file, code, \"SHORT\")\n",
    "\n",
    "# Update cursor to iterate through each row in the shapefile\n",
    "with arcpy.da.UpdateCursor(input_file, [\"Sub_Type\"] + list(sub_types.values())) as cursor:\n",
    "    for row in cursor:\n",
    "        sub_type = row[0]\n",
    "        for st, code in sub_types.items():\n",
    "            field_index = list(sub_types.values()).index(code) + 1  # Get the field's index in the row\n",
    "            row[field_index] = 1 if sub_type == st else 0\n",
    "        cursor.updateRow(row)\n",
    "\n",
    "print(\"Sub-type fields updated successfully.\")"
   ]
  },
  {
   "cell_type": "code",
   "execution_count": null,
   "id": "07cbfc69",
   "metadata": {},
   "outputs": [],
   "source": []
  }
 ],
 "metadata": {
  "kernelspec": {
   "display_name": "Python 3 (ipykernel)",
   "language": "python",
   "name": "python3"
  },
  "language_info": {
   "codemirror_mode": {
    "name": "ipython",
    "version": 3
   },
   "file_extension": ".py",
   "mimetype": "text/x-python",
   "name": "python",
   "nbconvert_exporter": "python",
   "pygments_lexer": "ipython3",
   "version": "3.9.18"
  }
 },
 "nbformat": 4,
 "nbformat_minor": 5
}
