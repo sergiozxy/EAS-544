{
 "cells": [
  {
   "cell_type": "code",
   "execution_count": 27,
   "id": "0da73904",
   "metadata": {},
   "outputs": [
    {
     "name": "stdout",
     "output_type": "stream",
     "text": [
      "Sub-type fields updated successfully.\n"
     ]
    }
   ],
   "source": [
    "import arcpy\n",
    "\n",
    "# Set the input file path\n",
    "input_file = r\"C:\\Users\\zxuyuan\\Downloads\\flint\\flint_foodpts.shp\"\n",
    "\n",
    "# List of sub-types and their corresponding new field codes\n",
    "sub_types = {\n",
    "    \"American_Restaurant\": \"ram\",\n",
    "    \"Fast_Food\": \"fas\",\n",
    "    \"OTHER_Restaurant\": \"oth\",\n",
    "    \"Ethnic_Restaurant\": \"eth\",\n",
    "    \"CSA\": \"far\",\n",
    "    \"Produce_FarmersMkts\": \"frm\",\n",
    "    \"GroceryStore_Corner\": \"gro\",\n",
    "    \"Supercenters\": \"spc\",\n",
    "    \"Supermarket\": \"spm\",\n",
    "}\n",
    "\n",
    "# Add new fields for each sub-type\n",
    "for code in sub_types.values():\n",
    "    arcpy.AddField_management(input_file, code, \"SHORT\")\n",
    "\n",
    "# Update cursor to iterate through each row in the shapefile\n",
    "with arcpy.da.UpdateCursor(input_file, [\"Sub_Type\"] + list(sub_types.values())) as cursor:\n",
    "    for row in cursor:\n",
    "        sub_type = row[0]\n",
    "        for st, code in sub_types.items():\n",
    "            field_index = list(sub_types.values()).index(code) + 1  # Get the field's index in the row\n",
    "            row[field_index] = 1 if sub_type == st else 0\n",
    "        cursor.updateRow(row)\n",
    "\n",
    "print(\"Sub-type fields updated successfully.\")"
   ]
  },
  {
   "cell_type": "code",
   "execution_count": 28,
   "id": "62469ce0",
   "metadata": {},
   "outputs": [
    {
     "name": "stdout",
     "output_type": "stream",
     "text": [
      "Sub-type fields updated successfully.\n"
     ]
    }
   ],
   "source": [
    "import arcpy\n",
    "\n",
    "# Set the input file path\n",
    "input_file = r\"C:\\Users\\zxuyuan\\Downloads\\grapids\\grapids_foodpts.shp\"\n",
    "\n",
    "# List of sub-types and their corresponding new field codes\n",
    "sub_types = {\n",
    "    \"American_Restaurant\": \"ram\",\n",
    "    \"Fast_Food\": \"fas\",\n",
    "    \"OTHER_Restaurant\": \"oth\",\n",
    "    \"Ethnic_Restaurant\": \"eth\",\n",
    "    \"CSA\": \"far\",\n",
    "    \"Produce_FarmersMkts\": \"frm\",\n",
    "    \"GroceryStore_Corner\": \"gro\",\n",
    "    \"Supercenters\": \"spc\",\n",
    "    \"Supermarket\": \"spm\",\n",
    "}\n",
    "\n",
    "# Add new fields for each sub-type\n",
    "for code in sub_types.values():\n",
    "    arcpy.AddField_management(input_file, code, \"SHORT\")\n",
    "\n",
    "# Update cursor to iterate through each row in the shapefile\n",
    "with arcpy.da.UpdateCursor(input_file, [\"Sub_Type\"] + list(sub_types.values())) as cursor:\n",
    "    for row in cursor:\n",
    "        sub_type = row[0]\n",
    "        for st, code in sub_types.items():\n",
    "            field_index = list(sub_types.values()).index(code) + 1  # Get the field's index in the row\n",
    "            row[field_index] = 1 if sub_type == st else 0\n",
    "        cursor.updateRow(row)\n",
    "\n",
    "print(\"Sub-type fields updated successfully.\")"
   ]
  },
  {
   "cell_type": "code",
   "execution_count": null,
   "id": "07cbfc69",
   "metadata": {},
   "outputs": [],
   "source": []
  }
 ],
 "metadata": {
  "kernelspec": {
   "display_name": "Python 3 (ipykernel)",
   "language": "python",
   "name": "python3"
  },
  "language_info": {
   "codemirror_mode": {
    "name": "ipython",
    "version": 3
   },
   "file_extension": ".py",
   "mimetype": "text/x-python",
   "name": "python",
   "nbconvert_exporter": "python",
   "pygments_lexer": "ipython3",
   "version": "3.9.18"
  }
 },
 "nbformat": 4,
 "nbformat_minor": 5
}
