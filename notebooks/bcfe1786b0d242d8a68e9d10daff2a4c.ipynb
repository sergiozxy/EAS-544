{
 "cells": [
  {
   "cell_type": "markdown",
   "metadata": {},
   "source": [
    "## Welcome to your notebook for a Group Challenge.\n"
   ]
  },
  {
   "cell_type": "markdown",
   "metadata": {},
   "source": [
    "#### Load the necessary packages\n",
    "\n",
    "note that this notebook can only run in the local arcgis pro, and is not able to run in the arcgis online because arcgis online does not support arcpy package"
   ]
  },
  {
   "cell_type": "code",
   "execution_count": 34,
   "metadata": {},
   "outputs": [
    {
     "name": "stderr",
     "output_type": "stream",
     "text": [
      "/opt/conda/lib/python3.6/site-packages/arcgis/gis/__init__.py:407: UserWarning: You are logged on as zxuyuan_umich with an administrator role, proceed with caution.\n",
      "  self.users.me.username)\n"
     ]
    },
    {
     "data": {
      "text/plain": [
       "'CheckedOut'"
      ]
     },
     "execution_count": 34,
     "metadata": {},
     "output_type": "execute_result"
    }
   ],
   "source": [
    "from arcgis.gis import GIS\n",
    "gis = GIS(\"home\")\n",
    "import os\n",
    "import glob\n",
    "import zipfile\n",
    "import arcpy\n",
    "import pandas as pd\n",
    "import matplotlib.pyplot as plt\n",
    "import matplotlib.colors as colors\n",
    "arcpy.env.overwriteOutput = True\n",
    "arcpy.CheckOutExtension(\"Spatial\")"
   ]
  },
  {
   "cell_type": "markdown",
   "metadata": {},
   "source": [
    "### Now you are ready to start!\n",
    "\n",
    "we first extract all the data to the given directory. To make sure the data has no conflict with the previous operations, we delete all the files that already exists in the directory and start a fresh start~"
   ]
  },
  {
   "cell_type": "code",
   "execution_count": 2,
   "metadata": {},
   "outputs": [
    {
     "name": "stdout",
     "output_type": "stream",
     "text": [
      "Deleted: /arcgis/home/fl/bg2010.dbf\n",
      "Deleted: /arcgis/home/fl/bg2010.prj\n",
      "Deleted: /arcgis/home/fl/bg2010.shp\n",
      "Deleted: /arcgis/home/fl/bg2010.shx\n",
      "Deleted: /arcgis/home/fl/flpeop.dbf\n",
      "Deleted: /arcgis/home/fl/flpeop.prj\n",
      "Deleted: /arcgis/home/fl/flpeop.shp\n",
      "Deleted: /arcgis/home/fl/flpeop.shx\n",
      "Deleted: /arcgis/home/fl/foodpts.cpg\n",
      "Deleted: /arcgis/home/fl/foodpts.dbf\n",
      "Deleted: /arcgis/home/fl/foodpts.prj\n",
      "Deleted: /arcgis/home/fl/foodpts.shp\n",
      "Deleted: /arcgis/home/fl/foodpts.shp.xml\n",
      "Deleted: /arcgis/home/fl/foodpts.shx\n",
      "Deleted: /arcgis/home/fl/output/fas.shp\n",
      "Deleted: /arcgis/home/fl/output/fas.shx\n",
      "Deleted: /arcgis/home/fl/output/fas.dbf\n",
      "Deleted: /arcgis/home/fl/output/fas.cpg\n",
      "Deleted: /arcgis/home/fl/output/fas.prj\n",
      "Deleted: /arcgis/home/fl/output/oth.shp\n",
      "Deleted: /arcgis/home/fl/output/fas.shp.xml\n",
      "Deleted: /arcgis/home/fl/output/fas.sbn\n",
      "Deleted: /arcgis/home/fl/output/fas.sbx\n",
      "Deleted: /arcgis/home/fl/output/oth.shx\n",
      "Deleted: /arcgis/home/fl/output/oth.dbf\n",
      "Deleted: /arcgis/home/fl/output/oth.cpg\n",
      "Deleted: /arcgis/home/fl/output/oth.prj\n",
      "Deleted: /arcgis/home/fl/output/ram.shp\n",
      "Deleted: /arcgis/home/fl/output/oth.shp.xml\n",
      "Deleted: /arcgis/home/fl/output/oth.sbn\n",
      "Deleted: /arcgis/home/fl/output/oth.sbx\n",
      "Deleted: /arcgis/home/fl/output/ram.shx\n",
      "Deleted: /arcgis/home/fl/output/ram.dbf\n",
      "Deleted: /arcgis/home/fl/output/ram.cpg\n",
      "Deleted: /arcgis/home/fl/output/ram.prj\n",
      "Deleted: /arcgis/home/fl/output/eth.shp\n",
      "Deleted: /arcgis/home/fl/output/ram.shp.xml\n",
      "Deleted: /arcgis/home/fl/output/ram.sbn\n",
      "Deleted: /arcgis/home/fl/output/ram.sbx\n",
      "Deleted: /arcgis/home/fl/output/eth.shx\n",
      "Deleted: /arcgis/home/fl/output/eth.dbf\n",
      "Deleted: /arcgis/home/fl/output/eth.cpg\n",
      "Deleted: /arcgis/home/fl/output/eth.prj\n",
      "Deleted: /arcgis/home/fl/output/far.shp\n",
      "Deleted: /arcgis/home/fl/output/eth.shp.xml\n",
      "Deleted: /arcgis/home/fl/output/eth.sbn\n",
      "Deleted: /arcgis/home/fl/output/eth.sbx\n",
      "Deleted: /arcgis/home/fl/output/far.shx\n",
      "Deleted: /arcgis/home/fl/output/far.dbf\n",
      "Deleted: /arcgis/home/fl/output/far.cpg\n",
      "Deleted: /arcgis/home/fl/output/far.prj\n",
      "Deleted: /arcgis/home/fl/output/frm.shp\n",
      "Deleted: /arcgis/home/fl/output/far.shp.xml\n",
      "Deleted: /arcgis/home/fl/output/far.sbn\n",
      "Deleted: /arcgis/home/fl/output/far.sbx\n",
      "Deleted: /arcgis/home/fl/output/frm.shx\n",
      "Deleted: /arcgis/home/fl/output/frm.dbf\n",
      "Deleted: /arcgis/home/fl/output/frm.cpg\n",
      "Deleted: /arcgis/home/fl/output/frm.prj\n",
      "Deleted: /arcgis/home/fl/output/gro.shp\n",
      "Deleted: /arcgis/home/fl/output/frm.shp.xml\n",
      "Deleted: /arcgis/home/fl/output/frm.sbn\n",
      "Deleted: /arcgis/home/fl/output/frm.sbx\n",
      "Deleted: /arcgis/home/fl/output/gro.shx\n",
      "Deleted: /arcgis/home/fl/output/gro.dbf\n",
      "Deleted: /arcgis/home/fl/output/gro.cpg\n",
      "Deleted: /arcgis/home/fl/output/gro.prj\n",
      "Deleted: /arcgis/home/fl/output/gro.shp.xml\n",
      "Deleted: /arcgis/home/fl/output/spc.shp\n",
      "Deleted: /arcgis/home/fl/output/gro.sbn\n",
      "Deleted: /arcgis/home/fl/output/gro.sbx\n",
      "Deleted: /arcgis/home/fl/output/spc.shx\n",
      "Deleted: /arcgis/home/fl/output/spc.dbf\n",
      "Deleted: /arcgis/home/fl/output/spc.cpg\n",
      "Deleted: /arcgis/home/fl/output/spc.prj\n",
      "Deleted: /arcgis/home/fl/output/spm.shp\n",
      "Deleted: /arcgis/home/fl/output/spc.shp.xml\n",
      "Deleted: /arcgis/home/fl/output/spc.sbn\n",
      "Deleted: /arcgis/home/fl/output/spc.sbx\n",
      "Deleted: /arcgis/home/fl/output/spm.shx\n",
      "Deleted: /arcgis/home/fl/output/spm.dbf\n",
      "Deleted: /arcgis/home/fl/output/spm.cpg\n",
      "Deleted: /arcgis/home/fl/output/spm.prj\n",
      "Deleted: /arcgis/home/fl/output/spm.shp.xml\n",
      "Deleted: /arcgis/home/fl/output/spm.sbn\n",
      "Deleted: /arcgis/home/fl/output/spm.sbx\n",
      "Deleted: /arcgis/home/gr/bg2010.dbf\n",
      "Deleted: /arcgis/home/gr/bg2010.prj\n",
      "Deleted: /arcgis/home/gr/bg2010.shp\n",
      "Deleted: /arcgis/home/gr/bg2010.shx\n",
      "Deleted: /arcgis/home/gr/foodpts.cpg\n",
      "Deleted: /arcgis/home/gr/foodpts.dbf\n",
      "Deleted: /arcgis/home/gr/foodpts.prj\n",
      "Deleted: /arcgis/home/gr/foodpts.shp\n",
      "Deleted: /arcgis/home/gr/foodpts.shp.xml\n",
      "Deleted: /arcgis/home/gr/foodpts.shx\n",
      "Deleted: /arcgis/home/gr/grpeop.dbf\n",
      "Deleted: /arcgis/home/gr/grpeop.prj\n",
      "Deleted: /arcgis/home/gr/grpeop.shp\n",
      "Deleted: /arcgis/home/gr/grpeop.shx\n"
     ]
    }
   ],
   "source": [
    "# give a fresh new start by deleting all of the files that already exists in the folder\n",
    "\n",
    "def delete_files_except(directory, keep_filenames):\n",
    "    # Ensure that the path is absolute and normalized\n",
    "    directory = os.path.abspath(directory)\n",
    "\n",
    "    # Convert keep_filenames to a set for faster membership testing\n",
    "    keep_filenames_set = set(keep_filenames)\n",
    "\n",
    "    # Check if it's a directory, just in case\n",
    "    if not os.path.isdir(directory):\n",
    "        print(f\"The directory {directory} does not exist or is not a directory.\")\n",
    "        return\n",
    "\n",
    "    # Walk through the directory\n",
    "    for root, dirs, files in os.walk(directory):\n",
    "        for file in files:\n",
    "            # Construct the full path of the file\n",
    "            file_path = os.path.join(root, file)\n",
    "            # Check if the file is not in the list of filenames to keep\n",
    "            if file not in keep_filenames_set:\n",
    "                try:\n",
    "                    os.remove(file_path)\n",
    "                    print(f\"Deleted: {file_path}\")\n",
    "                except OSError as e:\n",
    "                    print(f\"Error: {e.strerror}, while trying to delete file {file_path}\")\n",
    "\n",
    "os.chdir('/arcgis/home')\n",
    "delete_files_except('/arcgis/home', ['fl.zip', 'gr.zip'])\n",
    "\n",
    "#unzip fl.zip using zipfile\n",
    "with zipfile.ZipFile(r'fl.zip', 'r') as zip_ref:\n",
    "    zip_ref.extractall()\n",
    "    \n",
    "with zipfile.ZipFile(r'gr.zip', 'r') as zip_ref:\n",
    "    zip_ref.extractall()"
   ]
  },
  {
   "cell_type": "markdown",
   "metadata": {},
   "source": [
    "### We can check the data columns to verify we are working correctly\n",
    "\n",
    "This is for the shapefile that we need to cluster with"
   ]
  },
  {
   "cell_type": "code",
   "execution_count": 3,
   "metadata": {},
   "outputs": [
    {
     "name": "stdout",
     "output_type": "stream",
     "text": [
      "FID\n",
      "Shape\n",
      "OBJECTID\n",
      "ORIGINAL_I\n",
      "COMPANYNAM\n",
      "ADDRESS\n",
      "CITY\n",
      "STATE\n",
      "ZIPCODE\n",
      "CENSUSBLOC\n",
      "CENSUSTRAC\n",
      "PRIMARYSIC\n",
      "PRIMARY_DE\n",
      "SUB_TYPE\n",
      "LATITUDE\n",
      "LONGITUDE\n",
      "FRANCHISED\n",
      "EBT_SNAP\n",
      "DATASET\n",
      "Shape_1\n",
      "Date_Revie\n",
      "fas\n",
      "oth\n",
      "ram\n",
      "eth\n",
      "far\n",
      "frm\n",
      "gro\n",
      "spc\n",
      "spm\n"
     ]
    }
   ],
   "source": [
    "# List fields using the ListFields function\n",
    "fields = arcpy.ListFields('## now we can combine the result into one\n",
    "\n",
    "need to revise the code to generate the unique value)\n",
    "\n",
    "# Iterate through the fields and print their names\n",
    "for field in fields:\n",
    "    print(field.name)"
   ]
  },
  {
   "cell_type": "markdown",
   "metadata": {},
   "source": [
    "### population filed"
   ]
  },
  {
   "cell_type": "code",
   "execution_count": 4,
   "metadata": {},
   "outputs": [
    {
     "name": "stdout",
     "output_type": "stream",
     "text": [
      "FID\n",
      "Shape\n",
      "Id\n"
     ]
    }
   ],
   "source": [
    "# List fields using the ListFields function\n",
    "fields = arcpy.ListFields('/arcgis/home/fl/flpeop.shp')\n",
    "\n",
    "# Iterate through the fields and print their names\n",
    "for field in fields:\n",
    "    print(field.name)\n"
   ]
  },
  {
   "cell_type": "markdown",
   "metadata": {},
   "source": [
    "### now we define the radius we are interested in and the columns\n",
    "\n",
    "you can revise the radius in meters and you can also revise the columns that you are interested in"
   ]
  },
  {
   "cell_type": "code",
   "execution_count": 5,
   "metadata": {},
   "outputs": [],
   "source": [
    "# you may change the types here\n",
    "search_radii = ## now we can combine the result into one\n",
    "\n",
    "need to revise the code to generate the unique value  # in meters\n",
    "food_outlet_types = ['fas', 'oth', 'ram', 'eth', \n",
    "                     'far', 'frm', 'gro', 'spc', 'spm']  # Placeholder types\n"
   ]
  },
  {
   "cell_type": "markdown",
   "metadata": {},
   "source": [
    "### Classifying the data by columns\n",
    "\n",
    "To make sure our data runs correctly and more efficient, we first classify the data by the name and it is good way to check the number of each type of stores in the data to get a clear understanding"
   ]
  },
  {
   "cell_type": "code",
   "execution_count": 8,
   "metadata": {
    "scrolled": true
   },
   "outputs": [
    {
     "name": "stdout",
     "output_type": "stream",
     "text": [
      "fas has 941 features selected.\n",
      "Selected features for fas have been saved to /arcgis/home/fl/output/fas.shp\n",
      "oth has 281 features selected.\n",
      "Selected features for oth have been saved to /arcgis/home/fl/output/oth.shp\n",
      "ram has 363 features selected.\n",
      "Selected features for ram have been saved to /arcgis/home/fl/output/ram.shp\n",
      "eth has 273 features selected.\n",
      "Selected features for eth have been saved to /arcgis/home/fl/output/eth.shp\n",
      "far has 122 features selected.\n",
      "Selected features for far have been saved to /arcgis/home/fl/output/far.shp\n",
      "frm has 85 features selected.\n",
      "Selected features for frm have been saved to /arcgis/home/fl/output/frm.shp\n",
      "gro has 139 features selected.\n",
      "Selected features for gro have been saved to /arcgis/home/fl/output/gro.shp\n",
      "spc has 27 features selected.\n",
      "Selected features for spc have been saved to /arcgis/home/fl/output/spc.shp\n",
      "spm has 98 features selected.\n",
      "Selected features for spm have been saved to /arcgis/home/fl/output/spm.shp\n"
     ]
    }
   ],
   "source": [
    "shapefile = \"/arcgis/home/fl/foodpts.shp\"\n",
    "output_directory = '/arcgis/home/fl/output'  # Define an output directory for the new shapefiles\n",
    "\n",
    "if not os.path.exists(output_directory):\n",
    "    os.mkdir(output_directory)\n",
    "\n",
    "for field_name in food_outlet_types:\n",
    "    # Make a feature layer from the shapefile\n",
    "    foodpts = arcpy.MakeFeatureLayer_management(shapefile, \"foodpts_Layer\")\n",
    "\n",
    "    # Construct a query that selects only features where the value of the field is equal to 1\n",
    "    query = f\"{field_name} = 1\"\n",
    "    arcpy.SelectLayerByAttribute_management(foodpts, \"NEW_SELECTION\", query)\n",
    "    \n",
    "    # Get the number of selected features\n",
    "    count_result = arcpy.GetCount_management(foodpts)\n",
    "    count = int(count_result.getOutput(0))\n",
    "    print(field_name, \"has\", count, \"features selected.\")\n",
    "\n",
    "    if count > 0:\n",
    "        # Define the path for the new shapefile\n",
    "        output_shapefile = os.path.join(output_directory, f\"{field_name}.shp\")\n",
    "        \n",
    "        # Copy the selected features to a new shapefile\n",
    "        arcpy.CopyFeatures_management(foodpts, output_shapefile)\n",
    "        print(f\"Selected features for {field_name} have been saved to {output_shapefile}\")\n",
    "\n",
    "    # Clean up the foodpts layer before the next iteration to prevent schema lock errors\n",
    "    arcpy.Delete_management(foodpts)### now we define the radius we are interested in and the columns\n",
    "\n",
    "you can revise the radius in meters and you can also revise the columns that you are interested in"
   ]
  },
  {
   "cell_type": "markdown",
   "metadata": {},
   "source": [
    "now we construct each bandwidth correspondingly with the separate shape file"
   ]
  },
  {
   "cell_type": "code",
   "execution_count": 24,
   "metadata": {},
   "outputs": [
    {
     "name": "stdout",
     "output_type": "stream",
     "text": [
      "Density surface for fas within 805 meters has been created.\n",
      "Density surface for fas within 1609 meters has been created.\n",
      "Density surface for fas within 4828 meters has been created.\n",
      "Density surface for fas within 8047 meters has been created.\n",
      "Density surface for oth within 805 meters has been created.\n",
      "Density surface for oth within 1609 meters has been created.\n",
      "Density surface for oth within 4828 meters has been created.\n",
      "Density surface for oth within 8047 meters has been created.\n",
      "Density surface for ram within 805 meters has been created.\n",
      "Density surface for ram within 1609 meters has been created.\n",
      "Density surface for ram within 4828 meters has been created.\n",
      "Density surface for ram within 8047 meters has been created.\n",
      "Density surface for eth within 805 meters has been created.\n",
      "Density surface for eth within 1609 meters has been created.\n",
      "Density surface for eth within 4828 meters has been created.\n",
      "Density surface for eth within 8047 meters has been created.\n",
      "Density surface for far within 805 meters has been created.\n",
      "Density surface for far within 1609 meters has been created.\n",
      "Density surface for far within 4828 meters has been created.\n",
      "Density surface for far within 8047 meters has been created.\n",
      "Density surface for frm within 805 meters has been created.\n",
      "Density surface for frm within 1609 meters has been created.\n",
      "Density surface for frm within 4828 meters has been created.\n",
      "Density surface for frm within 8047 meters has been created.\n",
      "Density surface for gro within 805 meters has been created.\n",
      "Density surface for gro within 1609 meters has been created.\n",
      "Density surface for gro within 4828 meters has been created.\n",
      "Density surface for gro within 8047 meters has been created.\n",
      "Density surface for spc within 805 meters has been created.\n",
      "Density surface for spc within 1609 meters has been created.\n",
      "Density surface for spc within 4828 meters has been created.\n",
      "Density surface for spc within 8047 meters has been created.\n",
      "Density surface for spm within 805 meters has been created.\n",
      "Density surface for spm within 1609 meters has been created.\n",
      "Density surface for spm within 4828 meters has been created.\n",
      "Density surface for spm within 8047 meters has been created.\n"
     ]
    }
   ],
   "source": [
    "input_directory = '/arcgis/home/fl/output'\n",
    "density_directory = '/arcgis/home/fl/density_surfaces'\n",
    "if not os.path.exists(density_directory):\n",
    "    os.mkdir(density_directory)\n",
    "    \n",
    "# Path to the shapefile containing the locations of 1000 people\n",
    "people_shapefile = \"/arcgis/home/fl/flpeop.shp\"\n",
    "\n",
    "for field_name in food_outlet_types:\n",
    "    input_shapefile = os.path.join(input_directory, f\"{field_name}.shp\")\n",
    "    # Loop through each search radius\n",
    "    for radius in search_radii:\n",
    "        # Define the output density surface\n",
    "        output_surface = os.path.join(density_directory, f\"{field_name}_density_{radius}m.tif\")\n",
    "        \n",
    "        # Run Kernel Density tool\n",
    "        # we need to set population file as NONE to calculate density based on point count per area unit (already filter the values with only that value)\n",
    "        # Adding 'area_unit=\"SQUARE_MILES\"' to output densities in square miles\n",
    "        # Setting 'method=\"PLANAR\"' for planar measurements\n",
    "        arcpy.sa.KernelDensity(input_shapefile, \n",
    "                               population_field=\"NONE\", \n",
    "                               cell_size = 100,  # Consider specifying a cell size in meters to control the output resolution\n",
    "                               search_radius=radius, area_unit_scale_factor=\"SQUARE_METERS\", out_cell_values=\"DENSITIES\", method=\"PLANAR\").save(output_surface)\n",
    "        print(f\"Density surface for {field_name} within {radius} meters has been created.\")\n",
    "\n"
   ]
  },
  {
   "cell_type": "code",
   "execution_count": 29,
   "metadata": {},
   "outputs": [
    {
     "data": {
      "image/png": "[encoded data removed]",
      "text/plain": [
       "<Figure size 576x432 with 2 Axes>"
      ]
     },
     "metadata": {
      "needs_background": "light"
     },
     "output_type": "display_data"
    }
   ],
   "source": [
    "# These codes are for checking if the code is running successfully\n",
    "cmap = plt.cm.Blues # change the color schema\n",
    "\n",
    "# define a sample file\n",
    "radius = 805\n",
    "field_name = \"fas\"\n",
    "\n",
    "# read the file using arcpy.Raster\n",
    "tif_file = os.path.join(density_directory, f\"{field_name}_density_{radius}m.tif\")\n",
    "density_surface = arcpy.Raster(tif_file)\n",
    "density_array = arcpy.RasterToNumPyArray(density_surface)\n",
    "\n",
    "# plot the figure to check the result is good or not\n",
    "plt.figure(figsize=(8, 6))\n",
    "plt.imshow(density_array, cmap=cmap, norm=colors.PowerNorm(gamma=0.5))\n",
    "plt.colorbar(label='Density')\n",
    "plt.title(f\"Density Surface for {field_name} within {radius} meters\")\n",
    "plt.xlabel(\"X\")\n",
    "plt.ylabel(\"Y\")\n",
    "plt.show() # seems to be good."
   ]
  },
  {
   "cell_type": "code",
   "execution_count": 30,
   "metadata": {},
   "outputs": [
    {
     "name": "stdout",
     "output_type": "stream",
     "text": [
      "Sampled values for fas density within 805 meters have been saved.\n",
      "Sampled values for fas density within 1609 meters have been saved.\n",
      "Sampled values for fas density within 4828 meters have been saved.\n",
      "Sampled values for fas density within 8047 meters have been saved.\n",
      "Sampled values for oth density within 805 meters have been saved.\n",
      "Sampled values for oth density within 1609 meters have been saved.\n",
      "Sampled values for oth density within 4828 meters have been saved.\n",
      "Sampled values for oth density within 8047 meters have been saved.\n",
      "Sampled values for ram density within 805 meters have been saved.\n",
      "Sampled values for ram density within 1609 meters have been saved.\n",
      "Sampled values for ram density within 4828 meters have been saved.\n",
      "Sampled values for ram density within 8047 meters have been saved.\n",
      "Sampled values for eth density within 805 meters have been saved.\n",
      "Sampled values for eth density within 1609 meters have been saved.\n",
      "Sampled values for eth density within 4828 meters have been saved.\n",
      "Sampled values for eth density within 8047 meters have been saved.\n",
      "Sampled values for far density within 805 meters have been saved.\n",
      "Sampled values for far density within 1609 meters have been saved.\n",
      "Sampled values for far density within 4828 meters have been saved.\n",
      "Sampled values for far density within 8047 meters have been saved.\n",
      "Sampled values for frm density within 805 meters have been saved.\n",
      "Sampled values for frm density within 1609 meters have been saved.\n",
      "Sampled values for frm density within 4828 meters have been saved.\n",
      "Sampled values for frm density within 8047 meters have been saved.\n",
      "Sampled values for gro density within 805 meters have been saved.\n",
      "Sampled values for gro density within 1609 meters have been saved.\n",
      "Sampled values for gro density within 4828 meters have been saved.\n",
      "Sampled values for gro density within 8047 meters have been saved.\n",
      "Sampled values for spc density within 805 meters have been saved.\n",
      "Sampled values for spc density within 1609 meters have been saved.\n",
      "Sampled values for spc density within 4828 meters have been saved.\n",
      "Sampled values for spc density within 8047 meters have been saved.\n",
      "Sampled values for spm density within 805 meters have been saved.\n",
      "Sampled values for spm density within 1609 meters have been saved.\n",
      "Sampled values for spm density within 4828 meters have been saved.\n",
      "Sampled values for spm density within 8047 meters have been saved.\n"
     ]
    }
   ],
   "source": [
    "\n",
    "# Define the directory to store sampled values\n",
    "sample_directory = '/arcgis/home/fl/sampled_values'\n",
    "\n",
    "if not os.path.exists(sample_directory):\n",
    "    os.mkdir(sample_directory)\n",
    "    \n",
    "for field_name in food_outlet_types:\n",
    "    for radius in search_radii:\n",
    "        # Define the density surface file path\n",
    "        density_surface_path = os.path.join(density_directory, f\"{field_name}_density_{radius}m.tif\")\n",
    "        \n",
    "        # Define the output table for sampled values\n",
    "        output_table = os.path.join(sample_directory, f\"{field_name}_sampled_{radius}m.dbf\")\n",
    "        \n",
    "        # Run the Sample tool to intersect the density surface with people locations\n",
    "        arcpy.sa.Sample(in_rasters=density_surface_path, \n",
    "                        in_location_data=people_shapefile, \n",
    "                        out_table=output_table, \n",
    "                        resampling_type=\"NEAREST\")\n",
    "\n",
    "        print(f\"Sampled values for {field_name} density within {radius} meters have been saved.\")"
   ]
  },
  {
   "cell_type": "markdown",
   "metadata": {},
   "source": [
    "## now we can combine the result into one\n",
    "\n",
    "need to revise the code to generate the unique value"
   ]
  },
  {
   "cell_type": "code",
   "execution_count": 37,
   "metadata": {},
   "outputs": [
    {
     "name": "stdout",
     "output_type": "stream",
     "text": [
      "   OID  fas_805m  fas_1609m  fas_4828m  fas_8047m  oth_805m  oth_1609m  \\\n",
      "0    0         0          0          0          0       0.0        0.0   \n",
      "1    1         1          1          1          1       1.0        1.0   \n",
      "2    2         2          2          2          2       2.0        2.0   \n",
      "3    3         3          3          3          3       3.0        3.0   \n",
      "4    4         4          4          4          4       4.0        4.0   \n",
      "\n",
      "   oth_4828m  oth_8047m  ram_805m  ...  gro_4828m  gro_8047m  spc_805m  \\\n",
      "0        0.0        0.0       0.0  ...        0.0        0.0       0.0   \n",
      "1        1.0        1.0       1.0  ...        1.0        1.0       1.0   \n",
      "2        2.0        2.0       2.0  ...        2.0        2.0       2.0   \n",
      "3        3.0        3.0       3.0  ...        3.0        3.0       3.0   \n",
      "4        4.0        4.0       4.0  ...        4.0        4.0       4.0   \n",
      "\n",
      "   spc_1609m  spc_4828m  spc_8047m  spm_805m  spm_1609m  spm_4828m  spm_8047m  \n",
      "0        0.0        0.0        0.0       0.0        0.0        0.0        0.0  \n",
      "1        1.0        1.0        1.0       1.0        1.0        1.0        1.0  \n",
      "2        2.0        2.0        2.0       2.0        2.0        2.0        2.0  \n",
      "3        3.0        3.0        3.0       3.0        3.0        3.0        3.0  \n",
      "4        4.0        4.0        4.0       4.0        4.0        4.0        4.0  \n",
      "\n",
      "[5 rows x 37 columns]\n"
     ]
    }
   ],
   "source": [
    "data_dict = {}\n",
    "\n",
    "for field_name in food_outlet_types:\n",
    "    for radius in search_radii:\n",
    "        output_table_path = os.path.join(sample_directory, f\"{field_name}_sampled_{radius}m.dbf\")\n",
    "        \n",
    "        if os.path.exists(output_table_path):\n",
    "            # Dynamically get the field names, assuming the second field is the value of interest\n",
    "            fields = [f.name for f in arcpy.ListFields(output_table_path)]\n",
    "            unique_id_field = fields[0]  # Adjust based on your DBF structure; often 'FID' or similar\n",
    "            value_field = fields[1]  # Assuming the value field is the second one\n",
    "\n",
    "            with arcpy.da.SearchCursor(output_table_path, [unique_id_field, value_field]) as cursor:\n",
    "                for row in cursor:\n",
    "                    \n",
    "                    oid, value = row\n",
    "                    if oid not in data_dict:\n",
    "                        data_dict[oid] = {'OID': oid}\n",
    "                    data_dict[oid][f'{field_name}_{radius}m'] = value\n",
    "\n",
    "# Convert to DataFrame\n",
    "data_list = list(data_dict.values())\n",
    "df = pd.DataFrame(data_list)\n",
    "\n",
    "# Sort and reset index\n",
    "df = df.sort_values('OID').reset_index(drop=True)\n",
    "\n",
    "print(df.head())"
   ]
  },
  {
   "cell_type": "code",
   "execution_count": null,
   "metadata": {},
   "outputs": [],
   "source": []
  }
 ],
 "metadata": {
  "esriNotebookRuntime": {
   "notebookRuntimeName": "ArcGIS Notebook Python 3 Advanced",
   "notebookRuntimeVersion": "4.0"
  },
  "kernelspec": {
   "display_name": "Python 3",
   "language": "python",
   "name": "python3"
  },
  "language_info": {
   "codemirror_mode": {
    "name": "ipython",
    "version": 3
   },
   "file_extension": ".py",
   "mimetype": "text/x-python",
   "name": "python",
   "nbconvert_exporter": "python",
   "pygments_lexer": "ipython3",
   "version": "3.6.10"
  }
 },
 "nbformat": 4,
 "nbformat_minor": 2
}
