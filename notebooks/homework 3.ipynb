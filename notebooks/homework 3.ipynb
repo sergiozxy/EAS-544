{
 "cells": [
  {
   "cell_type": "markdown",
   "metadata": {},
   "source": [
    "# Homework 3\n",
    "\n",
    "Author: *Xuyuan Zhang*; Time: *Jan. 23. 2024*\n",
    "\n",
    "Notebook with practicing and Ch 5 Ex 1-2 and Ch 6 Ex 5-6"
   ]
  },
  {
   "cell_type": "code",
   "execution_count": 1,
   "metadata": {},
   "outputs": [
    {
     "name": "stdout",
     "output_type": "stream",
     "text": [
      "\n",
      "1.1.1 Model = Cadillac Lyric\n"
     ]
    }
   ],
   "source": [
    "# this is my personal practicing\n",
    "\n",
    "ev_vehicles = [\n",
    "    \"Cadillac Lyric, SUV, RWD, 89, 312, 119, , $61,795\",\n",
    "    \"Chevrolet Bolt EUV, Sedan/Wagon, FWD, 115, 247, 75, 5, $27,200\",\n",
    "    \"Chevrolet Bolt EV, Sedan/Wagon, FWD, 120, 259, 75, 5, $25,600\",\n",
    "    \"Ford F150 Lightning 4WD, Pickup, AWD, 66-70, 240-320, 165, 5, $55,974\",\n",
    "]\n",
    "\n",
    "\n",
    "model = ev_vehicles[0].split(\", \")[0]  # Cadillac Lyric\n",
    "\n",
    "print(f\"\\n1.1.1 Model = {model}\")\n"
   ]
  },
  {
   "cell_type": "code",
   "execution_count": 2,
   "metadata": {},
   "outputs": [
    {
     "name": "stdout",
     "output_type": "stream",
     "text": [
      "\n",
      "1.1.2 Model = Cadillac Lyric\n"
     ]
    }
   ],
   "source": [
    "ev_vehicles = [\n",
    "    [\"Cadillac Lyric\", \"SUV\", \"RWD\", \"89\", \"312\", \"119\", \"\", \"$61,795\"],\n",
    "    [\"Chevrolet Bolt EUV\", \"Sedan/Wagon\", \"FWD\", \"115\", \"247\", \"75\", \"5\", \"$27,200\"],\n",
    "    [\"Chevrolet Bolt EV\", \"Sedan/Wagon\", \"FWD\", \"120\", \"259\", \"75\", \"5\", \"$25,600\"],\n",
    "    [\"Ford F150 Lightning 4WD\", \"Pickup\", \"AWD\", \"66-70\", \"240-320\", \"165\", \"5\", \"$55,974\"],\n",
    "]\n",
    "\n",
    "model = ev_vehicles[0][0]  # Cadillac Lyric\n",
    "\n",
    "print(f\"\\n1.1.2 Model = {model}\")\n"
   ]
  },
  {
   "cell_type": "code",
   "execution_count": 3,
   "metadata": {},
   "outputs": [
    {
     "name": "stdout",
     "output_type": "stream",
     "text": [
      "\n",
      "1.2.1 Print elements\n",
      "['Cadillac Lyric', 'SUV', 'RWD', '89', '312', '119', '', '$61,795']\n",
      "['Chevrolet Bolt EUV', 'Sedan/Wagon', 'FWD', '115', '247', '75', '5', '$27,200']\n",
      "['Chevrolet Bolt EV', 'Sedan/Wagon', 'FWD', '120', '259', '75', '5', '$25,600']\n",
      "['Ford F150 Lightning 4WD', 'Pickup', 'AWD', '66-70', '240-320', '165', '5', '$55,974']\n",
      "\n",
      "1.2.2 Print elements\n",
      "['Chevrolet Bolt EUV', 'Sedan/Wagon', 'FWD', '115', '247', '75', '5', '$27,200']\n",
      "['Chevrolet Bolt EV', 'Sedan/Wagon', 'FWD', '120', '259', '75', '5', '$25,600']\n"
     ]
    }
   ],
   "source": [
    "\n",
    "print(\"\\n1.2.1 Print elements\")\n",
    "for vehicle in ev_vehicles:\n",
    "    print(vehicle)  # indented block\n",
    "\n",
    "print(\"\\n1.2.2 Print elements\")\n",
    "for vehicle in ev_vehicles[1:3]:\n",
    "    print(vehicle)  # indented block\n",
    "\n"
   ]
  },
  {
   "cell_type": "code",
   "execution_count": 4,
   "metadata": {},
   "outputs": [
    {
     "name": "stdout",
     "output_type": "stream",
     "text": [
      "\n",
      "1.3.1 Find Ford and print\n",
      "['Ford F150 Lightning 4WD', 'Pickup', 'AWD', '66-70', '240-320', '165', '5', '$55,974']\n",
      "\n",
      "1.3.2 Get all Chevrolet vehicles and print\n",
      "['Chevrolet Bolt EUV', 'Sedan/Wagon', 'FWD', '115', '247', '75', '5', '$27,200']\n",
      "['Chevrolet Bolt EV', 'Sedan/Wagon', 'FWD', '120', '259', '75', '5', '$25,600']\n",
      "\n",
      "1.3.3 Exclude all Chevrolet vehicles and print\n",
      "['Cadillac Lyric', 'SUV', 'RWD', '89', '312', '119', '', '$61,795']\n",
      "['Ford F150 Lightning 4WD', 'Pickup', 'AWD', '66-70', '240-320', '165', '5', '$55,974']\n"
     ]
    }
   ],
   "source": [
    "\n",
    "print(\"\\n1.3.1 Find Ford and print\")\n",
    "for vehicle in ev_vehicles:\n",
    "    if vehicle[0].find(\"Ford\") > -1:\n",
    "        print(vehicle) \n",
    "\n",
    "print(\"\\n1.3.2 Get all Chevrolet vehicles and print\")\n",
    "for vehicle in ev_vehicles:\n",
    "    if \"chevrolet\" in vehicle[0].lower():\n",
    "        print(vehicle)\n",
    "\n",
    "print(\"\\n1.3.3 Exclude all Chevrolet vehicles and print\")\n",
    "for vehicle in ev_vehicles:\n",
    "    if \"chevrolet\" not in vehicle[0].lower():\n",
    "        print(vehicle)"
   ]
  },
  {
   "cell_type": "code",
   "execution_count": 5,
   "metadata": {},
   "outputs": [
    {
     "name": "stdout",
     "output_type": "stream",
     "text": [
      "\n",
      "1.4.1 Tesla EVs (membership in)\n",
      "['Tesla Model 3 RWD', 'Sedan/Wagon', 'RWD', '132', '272', '60', '5', '$46,990']\n",
      "['Tesla Model X', 'SUV', 'AWD', '102', '348', '104', '7', '$120,990']\n",
      "['Tesla Model Y AWD', 'SUV', 'AWD', '123', '330', '84', '7', '$65,990']\n",
      "['Tesla Model S', 'Sedan/Wagon', 'AWD', '120', '405', '104', '5', '$104,990']\n",
      "['Tesla Model 3 AWD', 'Sedan/Wagon', 'AWD', '131', '358', '84', '5', '$46,990']\n"
     ]
    }
   ],
   "source": [
    "\n",
    "ev_vehicles = [\n",
    "    [\n",
    "        \"model\",\n",
    "        \"type\",\n",
    "        \"drivetrain\",\n",
    "        \"fuel_ec_mpge\",\n",
    "        \"range_mi\",\n",
    "        \"battery_kwh\",\n",
    "        \"seats\",\n",
    "        \"base_msrp\",\n",
    "    ],\n",
    "    [\"Tesla Model 3 RWD\", \"Sedan/Wagon\", \"RWD\", \"132\", \"272\", \"60\", \"5\", \"$46,990\"],\n",
    "    [\"Porsche Taycan GTS Sport Turismo\", \"Sedan/Wagon\", \"AWD\", \"80\", \"233\", \"109\", \"4\", \"$86,700\"],\n",
    "    [\"Kia Niro Electric\", \"Sedan/Wagon\", \"FWD\", \"113\", \"253\", \"64\", \"5\", \"$39,900\"],\n",
    "    [\"Lucid Air G Touring XR AWD\", \"Sedan/Wagon\", \"AWD\", \"131\", \"516\", \"120\", \"5\", \"$87,400\"],\n",
    "    [\"Toyota bZ4X AWD\", \"SUV\", \"AWD\", \"104\", \"228\", \"72\", \"5\", \"$44,080\"],\n",
    "    [\"BMW i4 M50 Gran Coupe\", \"Sedan/Wagon\", \"AWD\", \"96\", \"271\", \"83\", \"5\", \"$67,300\"],\n",
    "    [\"Tesla Model X\", \"SUV\", \"AWD\", \"102\", \"348\", \"104\", \"7\", \"$120,990\"],\n",
    "    [\"Volkswagen ID.4 AWD Pro/Pro S\", \"SUV\", \"AWD\", \"99\", \"255\", \"81\", \"5\", \"$41,230\"],\n",
    "    [\"Genesis Electrified G80\", \"Sedan/Wagon\", \"AWD\", \"97\", \"282\", \"87\", \"\", \"$79,825\"],\n",
    "    [\"Porsche Taycan AWD\", \"Sedan/Wagon\", \"AWD\", \"83\", \"246\", \"109\", \"4\", \"$86,700\"],\n",
    "    [\"Mini Cooper SE Hardtop 2 door\", \"Sedan/Wagon\", \"FWD\", \"110\", \"114\", \"32\", \"4\", \"$29,900\"],\n",
    "    [\"Genesis GV60 Performance\", \"Sedan/Wagon\", \"AWD\", \"90\", \"235\", \"77\", \"\", \"$67,890\"],\n",
    "    [\"Rivian R1S\", \"SUV\", \"AWD\", \"71\", \"321\", \"144\", \"7\", \"$78,000\"],\n",
    "    [\"Tesla Model Y AWD\", \"SUV\", \"AWD\", \"123\", \"330\", \"84\", \"7\", \"$65,990\"],\n",
    "    [\"Audi e-tron Sportback/S Sportback\", \"SUV\", \"AWD\", \"78\", \"225\", \"95\", \"5\", \"$69,100\"],\n",
    "    [\"Rivian R1T\", \"Pickup\", \"AWD\", \"73\", \"328\", \"144\", \"5\", \"$73,000\"],\n",
    "    [\"Tesla Model S\", \"Sedan/Wagon\", \"AWD\", \"120\", \"405\", \"104\", \"5\", \"$104,990\"],\n",
    "    [\"Toyota bZ4X\", \"SUV\", \"FWD\", \"119\", \"252\", \"71\", \"5\", \"$42,000\"],\n",
    "    [\n",
    "        \"Polestar Automotive USA Polestar 2\",\n",
    "        \"Sedan/Wagon\",\n",
    "        \"FWD\",\n",
    "        \"107\",\n",
    "        \"270\",\n",
    "        \"77\",\n",
    "        \"5\",\n",
    "        \"$48,400\",\n",
    "    ],\n",
    "    [\"Audi e-tron quattro/S\", \"SUV\", \"AWD\", \"79\", \"226\", \"95\", \"5\", \"$65,900\"],\n",
    "    [\"BMW i7 xDrive60 Sedan\", \"Sedan/Wagon\", \"AWD\", \"89\", \"318\", \"105\", \"5\", \"$119,300\"],\n",
    "    [\"BMW iX xDrive50\", \"SUV\", \"AWD\", \"86\", \"324\", \"76\", \"5\", \"$83,200\"],\n",
    "    [\"Chevrolet Bolt EV\", \"Sedan/Wagon\", \"FWD\", \"120\", \"259\", \"75\", \"5\", \"$25,600\"],\n",
    "    [\"BMW iX M60\", \"SUV\", \"AWD\", \"78\", \"288\", \"111\", \"5\", \"$108,900\"],\n",
    "    [\"Tesla Model 3 AWD\", \"Sedan/Wagon\", \"AWD\", \"131\", \"358\", \"84\", \"5\", \"$46,990\"],\n",
    "]\n",
    "\n",
    "print(\"\\n1.4.1 Tesla EVs (membership in)\")\n",
    "for vehicle in ev_vehicles[1:]:\n",
    "    if \"tesla\" in vehicle[0].lower():\n",
    "        print(vehicle)\n"
   ]
  },
  {
   "cell_type": "code",
   "execution_count": 6,
   "metadata": {},
   "outputs": [
    {
     "name": "stdout",
     "output_type": "stream",
     "text": [
      "\n",
      "1.4.2 Tesla EVs (str.startswith())\n",
      "['Tesla Model 3 RWD', 'Sedan/Wagon', 'RWD', '132', '272', '60', '5', '$46,990']\n",
      "['Tesla Model X', 'SUV', 'AWD', '102', '348', '104', '7', '$120,990']\n",
      "['Tesla Model Y AWD', 'SUV', 'AWD', '123', '330', '84', '7', '$65,990']\n",
      "['Tesla Model S', 'Sedan/Wagon', 'AWD', '120', '405', '104', '5', '$104,990']\n",
      "['Tesla Model 3 AWD', 'Sedan/Wagon', 'AWD', '131', '358', '84', '5', '$46,990']\n",
      "\n",
      "1.4.3 Tesla EVs (str.find())\n",
      "['Tesla Model 3 RWD', 'Sedan/Wagon', 'RWD', '132', '272', '60', '5', '$46,990']\n",
      "['Tesla Model X', 'SUV', 'AWD', '102', '348', '104', '7', '$120,990']\n",
      "['Tesla Model Y AWD', 'SUV', 'AWD', '123', '330', '84', '7', '$65,990']\n",
      "['Tesla Model S', 'Sedan/Wagon', 'AWD', '120', '405', '104', '5', '$104,990']\n",
      "['Tesla Model 3 AWD', 'Sedan/Wagon', 'AWD', '131', '358', '84', '5', '$46,990']\n"
     ]
    }
   ],
   "source": [
    "\n",
    "# Alternative (str.startswith())\n",
    "print(\"\\n1.4.2 Tesla EVs (str.startswith())\")\n",
    "for vehicle in ev_vehicles[1:]:\n",
    "    if vehicle[0].lower().startswith(\"tesla\"):\n",
    "        print(vehicle)\n",
    "\n",
    "# Alternative (str.find())\n",
    "print(\"\\n1.4.3 Tesla EVs (str.find())\")\n",
    "for vehicle in ev_vehicles[1:]:\n",
    "    if vehicle[0].lower().find(\"tesla\") > -1:\n",
    "        print(vehicle)\n",
    "\n"
   ]
  },
  {
   "cell_type": "markdown",
   "metadata": {},
   "source": [
    "Write a program which repeatedly reads integers until the user enters “done”. Once “done” is entered, print out the total, count, and average of the integers. If the user enters anything other than a integers, detect their mistake using try and except and print an error message and skip to the next integers.\n",
    "\n",
    "```\n",
    "Enter a number: 4\n",
    "Enter a number: 5\n",
    "Enter a number: bad data\n",
    "Invalid input\n",
    "Enter a number: 7\n",
    "Enter a number: done\n",
    "16 3 5.333333333333333\n",
    "```"
   ]
  },
  {
   "cell_type": "code",
   "execution_count": 1,
   "metadata": {},
   "outputs": [
    {
     "name": "stdout",
     "output_type": "stream",
     "text": [
      "Invalid input\n",
      "16 3 5.333333333333333\n"
     ]
    }
   ],
   "source": [
    "def read_integers():\n",
    "    total = 0\n",
    "    count = 0\n",
    "\n",
    "    while True:\n",
    "        try:\n",
    "            input_str = input(\"Enter a number: \")\n",
    "            if input_str == \"done\":\n",
    "                break\n",
    "            else:\n",
    "                number = int(input_str)\n",
    "                total += number\n",
    "                count += 1\n",
    "        except ValueError:\n",
    "            print(\"Invalid input\")\n",
    "\n",
    "    if count > 0:\n",
    "        average = total / count\n",
    "        print(total, count, average)\n",
    "    else:\n",
    "        print(\"No valid numbers were entered.\")\n",
    "\n",
    "# Run the program\n",
    "read_integers()"
   ]
  },
  {
   "cell_type": "markdown",
   "metadata": {},
   "source": [
    "Exercise 2: Write another program that prompts for a list of numbers as above and at the end prints out both the maximum and minimum of the numbers instead of the average."
   ]
  },
  {
   "cell_type": "code",
   "execution_count": 5,
   "metadata": {},
   "outputs": [
    {
     "name": "stdout",
     "output_type": "stream",
     "text": [
      "Invalid input\n",
      "7 4\n"
     ]
    }
   ],
   "source": [
    "def read_integers_max_min():\n",
    "    num_list = []\n",
    "\n",
    "    while True:\n",
    "        try:\n",
    "            input_str = input(\"Enter a number: \")\n",
    "            if input_str == \"done\":\n",
    "                break\n",
    "            else:\n",
    "                number = int(input_str)\n",
    "                num_list.append(number)\n",
    "        except ValueError:\n",
    "            print(\"Invalid input\")\n",
    "\n",
    "    if len(num_list) > 0:\n",
    "        print(max(num_list), min(num_list))\n",
    "    else:\n",
    "        print(\"No valid numbers were entered.\")\n",
    "\n",
    "# Run the program\n",
    "read_integers_max_min()"
   ]
  },
  {
   "cell_type": "markdown",
   "metadata": {},
   "source": [
    "Ex 5: Slicing strings\n",
    "\n",
    "Take the following Python code that stores a string:\n",
    "\n",
    "```str = 'X-DSPAM-Confidence: 0.8475'```\n",
    "\n",
    "Use `find` and string slicing to extract the portion of the string after the colon character and then use the float function to convert the extracted string into a floating point number."
   ]
  },
  {
   "cell_type": "code",
   "execution_count": null,
   "metadata": {},
   "outputs": [
    {
     "name": "stdout",
     "output_type": "stream",
     "text": [
      "0.8475\n"
     ]
    }
   ],
   "source": [
    "string_name = 'X-DSPAM-Confidence: 0.8475'\n",
    "\n",
    "# Find the colon character\n",
    "colon_position = string_name.find(':')\n",
    "\n",
    "# Slice the string after the colon character\n",
    "number_string = string_name[colon_position+1:].strip()\n",
    "\n",
    "# Convert the string to a float\n",
    "number = float(number_string)\n",
    "\n",
    "print(number)"
   ]
  },
  {
   "cell_type": "markdown",
   "metadata": {},
   "source": [
    "Ex 6: String methods\n",
    "\n",
    "Read the documentation of the string methods at https://docs.python.org/library/stdtypes.html#string-methods. You might want to experiment with some of them to make sure you understand how they work. `strip` and `replace` are particularly useful.\n",
    "\n",
    "The documentation uses a syntax that might be confusing. For example, in `find(sub[, start[, end]])`, the brackets indicate optional arguments. So sub is required, but start is optional, and if you include start, then end is optional."
   ]
  },
  {
   "cell_type": "code",
   "execution_count": null,
   "metadata": {},
   "outputs": [
    {
     "name": "stdout",
     "output_type": "stream",
     "text": [
      "7\n",
      "-1\n",
      "Hello, welcome to the world.\n",
      "I like apples\n",
      "three three was a race horse, two two was one too.\n"
     ]
    }
   ],
   "source": [
    "text = \"Hello, welcome to the world.\"\n",
    "x = text.find(\"welcome\") # Returns 7\n",
    "\n",
    "text = \"Hello, welcome to the world.\"\n",
    "y = text.find(\"o\", 5, 10) # Returns 9\n",
    "\n",
    "text = \"    Hello, welcome to the world.     \"\n",
    "z = text.strip() # Returns \"Hello, welcome to the world.\"\n",
    "\n",
    "text = \"I like bananas\"\n",
    "u = text.replace(\"bananas\", \"apples\") # Returns \"I like apples\"\n",
    "\n",
    "text = \"one one was a race horse, two two was one too.\"\n",
    "t = text.replace(\"one\", \"three\", 2) # Returns \"three three was a race horse, two two was one too.\"\n",
    "\n",
    "print(x)\n",
    "print(y)\n",
    "print(z)\n",
    "print(u)\n",
    "print(t)"
   ]
  },
  {
   "cell_type": "code",
   "execution_count": null,
   "metadata": {},
   "outputs": [],
   "source": []
  }
 ],
 "metadata": {
  "kernelspec": {
   "display_name": "Python 3",
   "language": "python",
   "name": "python3"
  },
  "language_info": {
   "codemirror_mode": {
    "name": "ipython",
    "version": 3
   },
   "file_extension": ".py",
   "mimetype": "text/x-python",
   "name": "python",
   "nbconvert_exporter": "python",
   "pygments_lexer": "ipython3",
   "version": "3.8.10"
  }
 },
 "nbformat": 4,
 "nbformat_minor": 2
}
