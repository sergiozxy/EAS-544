{
 "cells": [
  {
   "cell_type": "markdown",
   "metadata": {},
   "source": [
    "# Homework 3\n",
    "\n",
    "Author: *Xuyuan Zhang*; Time: *Jan. 23. 2024*\n",
    "\n",
    "Notebook with practicing and Ch 5 Ex 1-2 and Ch 6 Ex 5-6"
   ]
  },
  {
   "cell_type": "code",
   "execution_count": null,
   "metadata": {},
   "outputs": [],
   "source": []
  },
  {
   "cell_type": "code",
   "execution_count": null,
   "metadata": {},
   "outputs": [],
   "source": []
  },
  {
   "cell_type": "markdown",
   "metadata": {},
   "source": [
    "Write a program which repeatedly reads integers until the user enters “done”. Once “done” is entered, print out the total, count, and average of the integers. If the user enters anything other than a integers, detect their mistake using try and except and print an error message and skip to the next integers.\n",
    "\n",
    "```\n",
    "Enter a number: 4\n",
    "Enter a number: 5\n",
    "Enter a number: bad data\n",
    "Invalid input\n",
    "Enter a number: 7\n",
    "Enter a number: done\n",
    "16 3 5.333333333333333\n",
    "```"
   ]
  },
  {
   "cell_type": "code",
   "execution_count": 1,
   "metadata": {},
   "outputs": [
    {
     "name": "stdout",
     "output_type": "stream",
     "text": [
      "Invalid input\n",
      "16 3 5.333333333333333\n"
     ]
    }
   ],
   "source": [
    "def read_integers():\n",
    "    total = 0\n",
    "    count = 0\n",
    "\n",
    "    while True:\n",
    "        try:\n",
    "            input_str = input(\"Enter a number: \")\n",
    "            if input_str == \"done\":\n",
    "                break\n",
    "            else:\n",
    "                number = int(input_str)\n",
    "                total += number\n",
    "                count += 1\n",
    "        except ValueError:\n",
    "            print(\"Invalid input\")\n",
    "\n",
    "    if count > 0:\n",
    "        average = total / count\n",
    "        print(total, count, average)\n",
    "    else:\n",
    "        print(\"No valid numbers were entered.\")\n",
    "\n",
    "# Run the program\n",
    "read_integers()"
   ]
  },
  {
   "cell_type": "markdown",
   "metadata": {},
   "source": [
    "Exercise 2: Write another program that prompts for a list of numbers as above and at the end prints out both the maximum and minimum of the numbers instead of the average."
   ]
  },
  {
   "cell_type": "code",
   "execution_count": 5,
   "metadata": {},
   "outputs": [
    {
     "name": "stdout",
     "output_type": "stream",
     "text": [
      "Invalid input\n",
      "7 4\n"
     ]
    }
   ],
   "source": [
    "def read_integers_max_min():\n",
    "    num_list = []\n",
    "\n",
    "    while True:\n",
    "        try:\n",
    "            input_str = input(\"Enter a number: \")\n",
    "            if input_str == \"done\":\n",
    "                break\n",
    "            else:\n",
    "                number = int(input_str)\n",
    "                num_list.append(number)\n",
    "        except ValueError:\n",
    "            print(\"Invalid input\")\n",
    "\n",
    "    if len(num_list) > 0:\n",
    "        print(max(num_list), min(num_list))\n",
    "    else:\n",
    "        print(\"No valid numbers were entered.\")\n",
    "\n",
    "# Run the program\n",
    "read_integers_max_min()"
   ]
  },
  {
   "cell_type": "markdown",
   "metadata": {},
   "source": [
    "Ex 5: Slicing strings\n",
    "\n",
    "Take the following Python code that stores a string:\n",
    "\n",
    "```str = 'X-DSPAM-Confidence: 0.8475'```\n",
    "\n",
    "Use `find` and string slicing to extract the portion of the string after the colon character and then use the float function to convert the extracted string into a floating point number."
   ]
  },
  {
   "cell_type": "code",
   "execution_count": null,
   "metadata": {},
   "outputs": [
    {
     "name": "stdout",
     "output_type": "stream",
     "text": [
      "0.8475\n"
     ]
    }
   ],
   "source": [
    "string_name = 'X-DSPAM-Confidence: 0.8475'\n",
    "\n",
    "# Find the colon character\n",
    "colon_position = string_name.find(':')\n",
    "\n",
    "# Slice the string after the colon character\n",
    "number_string = string_name[colon_position+1:].strip()\n",
    "\n",
    "# Convert the string to a float\n",
    "number = float(number_string)\n",
    "\n",
    "print(number)"
   ]
  },
  {
   "cell_type": "markdown",
   "metadata": {},
   "source": [
    "Ex 6: String methods\n",
    "\n",
    "Read the documentation of the string methods at https://docs.python.org/library/stdtypes.html#string-methods. You might want to experiment with some of them to make sure you understand how they work. `strip` and `replace` are particularly useful.\n",
    "\n",
    "The documentation uses a syntax that might be confusing. For example, in `find(sub[, start[, end]])`, the brackets indicate optional arguments. So sub is required, but start is optional, and if you include start, then end is optional."
   ]
  },
  {
   "cell_type": "code",
   "execution_count": null,
   "metadata": {},
   "outputs": [
    {
     "name": "stdout",
     "output_type": "stream",
     "text": [
      "7\n",
      "-1\n",
      "Hello, welcome to the world.\n",
      "I like apples\n",
      "three three was a race horse, two two was one too.\n"
     ]
    }
   ],
   "source": [
    "text = \"Hello, welcome to the world.\"\n",
    "x = text.find(\"welcome\") # Returns 7\n",
    "\n",
    "text = \"Hello, welcome to the world.\"\n",
    "y = text.find(\"o\", 5, 10) # Returns 9\n",
    "\n",
    "text = \"    Hello, welcome to the world.     \"\n",
    "z = text.strip() # Returns \"Hello, welcome to the world.\"\n",
    "\n",
    "text = \"I like bananas\"\n",
    "u = text.replace(\"bananas\", \"apples\") # Returns \"I like apples\"\n",
    "\n",
    "text = \"one one was a race horse, two two was one too.\"\n",
    "t = text.replace(\"one\", \"three\", 2) # Returns \"three three was a race horse, two two was one too.\"\n",
    "\n",
    "print(x)\n",
    "print(y)\n",
    "print(z)\n",
    "print(u)\n",
    "print(t)"
   ]
  },
  {
   "cell_type": "code",
   "execution_count": null,
   "metadata": {},
   "outputs": [],
   "source": []
  }
 ],
 "metadata": {
  "kernelspec": {
   "display_name": "Python 3",
   "language": "python",
   "name": "python3"
  },
  "language_info": {
   "codemirror_mode": {
    "name": "ipython",
    "version": 3
   },
   "file_extension": ".py",
   "mimetype": "text/x-python",
   "name": "python",
   "nbconvert_exporter": "python",
   "pygments_lexer": "ipython3",
   "version": "3.8.10"
  }
 },
 "nbformat": 4,
 "nbformat_minor": 2
}
