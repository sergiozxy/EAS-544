{
 "cells": [
  {
   "cell_type": "markdown",
   "metadata": {},
   "source": [
    "## Welcome to your notebook for a Group Challenge.\n"
   ]
  },
  {
   "cell_type": "markdown",
   "metadata": {},
   "source": [
    "#### Load the necessary packages\n",
    "\n",
    "note that this notebook can only run in the local arcgis pro, and is not able to run in the arcgis online because arcgis online does not support arcpy package"
   ]
  },
  {
   "cell_type": "code",
   "execution_count": 1,
   "metadata": {},
   "outputs": [
    {
     "name": "stderr",
     "output_type": "stream",
     "text": [
      "/opt/conda/lib/python3.6/site-packages/arcgis/gis/__init__.py:407: UserWarning: You are logged on as zxuyuan_umich with an administrator role, proceed with caution.\n",
      "  self.users.me.username)\n"
     ]
    },
    {
     "data": {
      "text/plain": [
       "'CheckedOut'"
      ]
     },
     "execution_count": 1,
     "metadata": {},
     "output_type": "execute_result"
    }
   ],
   "source": [
    "from arcgis.gis import GIS\n",
    "gis = GIS(\"home\")\n",
    "import os\n",
    "import glob\n",
    "import zipfile\n",
    "import arcpy\n",
    "import pandas as pd\n",
    "arcpy.CheckOutExtension(\"Spatial\")"
   ]
  },
  {
   "cell_type": "markdown",
   "metadata": {},
   "source": [
    "#### Now you are ready to start!\n",
    "\n",
    "we first extract all the data to the given directory. To make sure the data has no conflict with the previous operations, we delete all the files that already exists in the directory and start a fresh start~"
   ]
  },
  {
   "cell_type": "code",
   "execution_count": 46,
   "metadata": {
    "scrolled": true
   },
   "outputs": [
    {
     "name": "stdout",
     "output_type": "stream",
     "text": [
      "Error: Device or resource busy, while trying to delete file /arcgis/home/fl/.nfs00000000d49f014f00000001\n",
      "Deleted: /arcgis/home/fl/bg2010.dbf\n",
      "Deleted: /arcgis/home/fl/bg2010.prj\n",
      "Deleted: /arcgis/home/fl/bg2010.shp\n",
      "Deleted: /arcgis/home/fl/bg2010.shx\n",
      "Deleted: /arcgis/home/fl/flpeop.dbf\n",
      "Deleted: /arcgis/home/fl/flpeop.prj\n",
      "Deleted: /arcgis/home/fl/flpeop.shp\n",
      "Deleted: /arcgis/home/fl/flpeop.shx\n",
      "Deleted: /arcgis/home/fl/foodpts.cpg\n",
      "Deleted: /arcgis/home/fl/foodpts.dbf\n",
      "Deleted: /arcgis/home/fl/foodpts.prj\n",
      "Deleted: /arcgis/home/fl/foodpts.shp\n",
      "Deleted: /arcgis/home/fl/foodpts.shp.xml\n",
      "Deleted: /arcgis/home/fl/foodpts.shx\n",
      "Deleted: /arcgis/home/fl/output/fas.shp\n",
      "Deleted: /arcgis/home/fl/output/fas.shx\n",
      "Deleted: /arcgis/home/fl/output/fas.dbf\n",
      "Deleted: /arcgis/home/fl/output/fas.cpg\n",
      "Deleted: /arcgis/home/fl/output/fas.prj\n",
      "Deleted: /arcgis/home/fl/output/fas.shp.xml\n",
      "Deleted: /arcgis/home/fl/output/fas.sbn\n",
      "Deleted: /arcgis/home/fl/output/fas.sbx\n",
      "Deleted: /arcgis/home/gr/bg2010.dbf\n",
      "Deleted: /arcgis/home/gr/bg2010.prj\n",
      "Deleted: /arcgis/home/gr/bg2010.shp\n",
      "Deleted: /arcgis/home/gr/bg2010.shx\n",
      "Deleted: /arcgis/home/gr/foodpts.cpg\n",
      "Deleted: /arcgis/home/gr/foodpts.dbf\n",
      "Deleted: /arcgis/home/gr/foodpts.prj\n",
      "Deleted: /arcgis/home/gr/foodpts.shp\n",
      "Deleted: /arcgis/home/gr/foodpts.shp.xml\n",
      "Deleted: /arcgis/home/gr/foodpts.shx\n",
      "Deleted: /arcgis/home/gr/grpeop.dbf\n",
      "Deleted: /arcgis/home/gr/grpeop.prj\n",
      "Deleted: /arcgis/home/gr/grpeop.shp\n",
      "Deleted: /arcgis/home/gr/grpeop.shx\n"
     ]
    }
   ],
   "source": [
    "\n",
    "# give a fresh new start by deleting all of the files that already exists in the folder\n",
    "\n",
    "def delete_files_except(directory, keep_filenames):\n",
    "    # Ensure that the path is absolute and normalized\n",
    "    directory = os.path.abspath(directory)\n",
    "\n",
    "    # Convert keep_filenames to a set for faster membership testing\n",
    "    keep_filenames_set = set(keep_filenames)\n",
    "\n",
    "    # Check if it's a directory, just in case\n",
    "    if not os.path.isdir(directory):\n",
    "        print(f\"The directory {directory} does not exist or is not a directory.\")\n",
    "        return\n",
    "\n",
    "    # Walk through the directory\n",
    "    for root, dirs, files in os.walk(directory):\n",
    "        for file in files:\n",
    "            # Construct the full path of the file\n",
    "            file_path = os.path.join(root, file)\n",
    "            # Check if the file is not in the list of filenames to keep\n",
    "            if file not in keep_filenames_set:\n",
    "                try:\n",
    "                    os.remove(file_path)\n",
    "                    print(f\"Deleted: {file_path}\")\n",
    "                except OSError as e:\n",
    "                    print(f\"Error: {e.strerror}, while trying to delete file {file_path}\")\n",
    "\n",
    "os.chdir('/arcgis/home')\n",
    "delete_files_except('/arcgis/home', ['fl.zip', 'gr.zip'])\n",
    "\n",
    "#unzip fl.zip using zipfile\n",
    "with zipfile.ZipFile(r'fl.zip', 'r') as zip_ref:\n",
    "    zip_ref.extractall()\n",
    "    \n",
    "with zipfile.ZipFile(r'gr.zip', 'r') as zip_ref:\n",
    "    zip_ref.extractall()"
   ]
  },
  {
   "cell_type": "code",
   "execution_count": 47,
   "metadata": {},
   "outputs": [
    {
     "name": "stdout",
     "output_type": "stream",
     "text": [
      "FID\n",
      "Shape\n",
      "OBJECTID\n",
      "ORIGINAL_I\n",
      "COMPANYNAM\n",
      "ADDRESS\n",
      "CITY\n",
      "STATE\n",
      "ZIPCODE\n",
      "CENSUSBLOC\n",
      "CENSUSTRAC\n",
      "PRIMARYSIC\n",
      "PRIMARY_DE\n",
      "SUB_TYPE\n",
      "LATITUDE\n",
      "LONGITUDE\n",
      "FRANCHISED\n",
      "EBT_SNAP\n",
      "DATASET\n",
      "Shape_1\n",
      "Date_Revie\n",
      "fas\n",
      "oth\n",
      "ram\n",
      "eth\n",
      "far\n",
      "frm\n",
      "gro\n",
      "spc\n",
      "spm\n"
     ]
    }
   ],
   "source": [
    "# List fields using the ListFields function\n",
    "fields = arcpy.ListFields('/arcgis/home/fl/foodpts.shp')\n",
    "\n",
    "# Iterate through the fields and print their names\n",
    "for field in fields:\n",
    "    print(field.name)"
   ]
  },
  {
   "cell_type": "code",
   "execution_count": 48,
   "metadata": {},
   "outputs": [
    {
     "name": "stdout",
     "output_type": "stream",
     "text": [
      "FID\n",
      "Shape\n",
      "Id\n"
     ]
    }
   ],
   "source": [
    "# List fields using the ListFields function\n",
    "fields = arcpy.ListFields('/arcgis/home/fl/flpeop.shp')\n",
    "\n",
    "# Iterate through the fields and print their names\n",
    "for field in fields:\n",
    "    print(field.name)"
   ]
  },
  {
   "cell_type": "code",
   "execution_count": 51,
   "metadata": {},
   "outputs": [],
   "source": [
    "# you may change the types here\n",
    "search_radii = [805, 1609, 4828, 8047]  # in meters\n",
    "food_outlet_types = ['fas', 'oth', 'ram', 'eth', \n",
    "                     'far', 'frm', 'gro', 'spc', 'spm']  # Placeholder types\n"
   ]
  },
  {
   "cell_type": "code",
   "execution_count": 52,
   "metadata": {},
   "outputs": [
    {
     "name": "stdout",
     "output_type": "stream",
     "text": [
      "fas has 941 features selected.\n",
      "Selected features for fas have been saved to /arcgis/home/fl/output/fas.shp\n",
      "oth has 281 features selected.\n",
      "Selected features for oth have been saved to /arcgis/home/fl/output/oth.shp\n",
      "ram has 363 features selected.\n",
      "Selected features for ram have been saved to /arcgis/home/fl/output/ram.shp\n",
      "eth has 273 features selected.\n",
      "Selected features for eth have been saved to /arcgis/home/fl/output/eth.shp\n",
      "far has 122 features selected.\n",
      "Selected features for far have been saved to /arcgis/home/fl/output/far.shp\n",
      "frm has 85 features selected.\n",
      "Selected features for frm have been saved to /arcgis/home/fl/output/frm.shp\n",
      "gro has 139 features selected.\n",
      "Selected features for gro have been saved to /arcgis/home/fl/output/gro.shp\n",
      "spc has 27 features selected.\n",
      "Selected features for spc have been saved to /arcgis/home/fl/output/spc.shp\n",
      "spm has 98 features selected.\n",
      "Selected features for spm have been saved to /arcgis/home/fl/output/spm.shp\n"
     ]
    }
   ],
   "source": [
    "output_directory = '/arcgis/home/fl/output'  # Define an output directory for the new shapefiles\n",
    "\n",
    "if not os.path.exists(output_directory):\n",
    "    os.mkdir(output_directory)\n",
    "\n",
    "for field_name in food_outlet_types:\n",
    "    # Make a feature layer from the shapefile\n",
    "    foodpts = arcpy.MakeFeatureLayer_management(shapefile, \"foodpts_Layer\")\n",
    "\n",
    "    # Construct a query that selects only features where the value of the field is equal to 1\n",
    "    query = f\"{field_name} = 1\"\n",
    "    arcpy.SelectLayerByAttribute_management(foodpts, \"NEW_SELECTION\", query)\n",
    "    \n",
    "    # Get the number of selected features\n",
    "    count_result = arcpy.GetCount_management(foodpts)\n",
    "    count = int(count_result.getOutput(0))\n",
    "    print(field_name, \"has\", count, \"features selected.\")\n",
    "\n",
    "    if count > 0:\n",
    "        # Define the path for the new shapefile\n",
    "        output_shapefile = os.path.join(output_directory, f\"{field_name}.shp\")\n",
    "        \n",
    "        # Copy the selected features to a new shapefile\n",
    "        arcpy.CopyFeatures_management(foodpts, output_shapefile)\n",
    "        print(f\"Selected features for {field_name} have been saved to {output_shapefile}\")\n",
    "\n",
    "    # Clean up the foodpts layer before the next iteration to prevent schema lock errors\n",
    "    arcpy.Delete_management(foodpts)"
   ]
  },
  {
   "cell_type": "code",
   "execution_count": null,
   "metadata": {},
   "outputs": [],
   "source": [
    "for outlet_type in food_outlet_types:\n",
    "    # Apply a selection or somehow isolate each outlet type\n",
    "    query = f\"OutletType = '{outlet_type}'\"\n",
    "    arcpy.SelectLayerByAttribute_management(foodpts, \"NEW_SELECTION\", query)\n",
    "    # Kernel Density analysis for each search radius\n",
    "    for radius in search_radii:\n",
    "        # Output raster will be named as {outlet_type}_density_{radius}.tif\n",
    "        out_raster_name = f\"{outlet_type}_density_{radius}.tif\"\n",
    "        out_raster_path = arcpy.sa.KernelDensity(foodpts, \"NONE\", radius)\n",
    "        # Save the output raster\n",
    "        out_raster_path.save(out_raster_name)\n",
    "        print(f\"Kernel Density Raster saved: {out_raster_name}\")\n",
    "    # Clear the selection for the next iteration\n",
    "    arcpy.SelectLayerByAttribute_management(foodpts, \"CLEAR_SELECTION\")\n",
    "# Assuming you have a point shapefile of the 1000 people's locations called 'people_locations.shp'\n",
    "people_locations = \"people_locations.shp\"\n",
    "\n",
    "# Sample the kernel density rasters at each people location\n",
    "for radius in search_radii:\n",
    "    # We will assume all types have the same search radius in their names\n",
    "    rasters_to_sample = [arcpy.Raster(f\"{outlet_type}_density_{radius}.tif\") for outlet_type in food_outlet_types]\n",
    "    # The Sample tool will take multiple rasters and combine their values at specified locations\n",
    "    out_table = f\"sampled_values_{radius}.dbf\"\n",
    "    arcpy.sa.Sample(rasters_to_sample, people_locations, out_table)\n",
    "    print(f\"Sampled values table saved: {out_table}\")\n",
    "\n",
    "# Check in the Spatial Analyst extension now that we're done\n",
    "arcpy.CheckInExtension(\"Spatial\")"
   ]
  }
 ],
 "metadata": {
  "esriNotebookRuntime": {
   "notebookRuntimeName": "ArcGIS Notebook Python 3 Advanced",
   "notebookRuntimeVersion": "4.0"
  },
  "kernelspec": {
   "display_name": "Python 3",
   "language": "python",
   "name": "python3"
  },
  "language_info": {
   "codemirror_mode": {
    "name": "ipython",
    "version": 3
   },
   "file_extension": ".py",
   "mimetype": "text/x-python",
   "name": "python",
   "nbconvert_exporter": "python",
   "pygments_lexer": "ipython3",
   "version": "3.6.10"
  }
 },
 "nbformat": 4,
 "nbformat_minor": 2
}
