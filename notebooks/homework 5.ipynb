{
 "cells": [
  {
   "cell_type": "markdown",
   "metadata": {},
   "source": [
    "# Homework 5\n",
    "\n",
    "Author: Xuyuan Zhang; Time: Jan. 30. 2024\n",
    "\n",
    "Notebook with practicing and Ch 9 Ex 3-4 and Ch 10 Ex 1-2"
   ]
  },
  {
   "cell_type": "code",
   "execution_count": 1,
   "metadata": {},
   "outputs": [],
   "source": [
    "# we first need to set the working directory\n",
    "import os\n",
    "import urllib.request\n",
    "from IPython.display import display, HTML\n",
    "os.chdir(r\"../\")"
   ]
  },
  {
   "cell_type": "code",
   "execution_count": 2,
   "metadata": {},
   "outputs": [
    {
     "name": "stdout",
     "output_type": "stream",
     "text": [
      "The file mbox-short.txt already exists.\n",
      "The file mbox.txt already exists.\n",
      "The file romeo.txt already exists.\n"
     ]
    }
   ],
   "source": [
    "\n",
    "def download_files(url, file_name):\n",
    "    # Check if the file already exists\n",
    "    if os.path.exists(file_name):\n",
    "        print(f\"The file {file_name} already exists.\")\n",
    "        return\n",
    "    \n",
    "    # now in the directory we can download the files via http\n",
    "    headers = {\n",
    "        'User-Agent': 'Mozilla/5.0 (Windows NT 10.0; Win64; x64) AppleWebKit/537.36 (KHTML, like Gecko) Chrome/58.0.3029.110 Safari/537.'\n",
    "    }\n",
    "\n",
    "    req = urllib.request.Request(url, data=None, headers=headers)\n",
    "    with urllib.request.urlopen(req) as response:\n",
    "       # Read the response as bytes\n",
    "       file_data = response.read()\n",
    "\n",
    "    # Now let's save the file locally\n",
    "    with open(file_name, 'wb') as f:\n",
    "       f.write(file_data)\n",
    "\n",
    "    print(f\"{file_name} has been downloaded successfully.\")\n",
    "\n",
    "url = \"https://www.py4e.com/code3/mbox-short.txt\"\n",
    "url2 = \"https://www.py4e.com/code3/mbox.txt\"\n",
    "url3 = \"https://www.py4e.com/code3/romeo.txt\"\n",
    "file_name1 = \"mbox-short.txt\"\n",
    "file_name2 = \"mbox.txt\"\n",
    "file_name3 = \"romeo.txt\"\n",
    "\n",
    "download_files(url, file_name1)\n",
    "download_files(url2, file_name2)\n",
    "download_files(url3, file_name3)"
   ]
  },
  {
   "cell_type": "markdown",
   "metadata": {},
   "source": [
    "Exercise 2: \n",
    "\n",
    "Write a program that categorizes each mail message by which day of the week the commit was done. To do this look for lines that start with “From”, then look for the third word and keep a running count of each of the days of the week. At the end of the program print out the contents of your dictionary (order does not matter).Exercise 2: Write a program that categorizes each mail message by which day of the week the commit was done. To do this look for lines that start with “From”, then look for the third word and keep a running count of each of the days of the week. At the end of the program print out the contents of your dictionary (order does not matter).\n",
    "\n",
    "Sample Line:\n",
    "\n",
    "```\n",
    "From stephen.marquard@uct.ac.za Sat Jan  5 09:14:16 2008\n",
    "```\n",
    "\n",
    "Sample Execution:\n",
    "\n",
    "```\n",
    "python dow.py\n",
    "Enter a file name: mbox-short.txt\n",
    "{'Fri': 20, 'Thu': 6, 'Sat': 1}\n",
    "```"
   ]
  },
  {
   "cell_type": "code",
   "execution_count": 6,
   "metadata": {},
   "outputs": [
    {
     "name": "stdout",
     "output_type": "stream",
     "text": [
      "Working on file:  mbox-short.txt\n",
      "{'Sat': 1, 'Fri': 20, 'Thu': 6}\n"
     ]
    }
   ],
   "source": [
    "# we can also make the function read through via input\n",
    "def days_count():\n",
    "    file_path = input(\"Enter the file name: \")\n",
    "    try:\n",
    "        print(\"Working on file: \", file_path)\n",
    "        days = {}\n",
    "        with open(file_path, 'r') as file:\n",
    "            for line in file:\n",
    "                if line.startswith(\"From \"):\n",
    "                    day = line.split()[2]\n",
    "                    days[day] = days.get(day, 0) + 1\n",
    "    except FileNotFoundError:\n",
    "        output = \"The specified file does not exist.\"\n",
    "\n",
    "    print(days)\n",
    "\n",
    "days_count()"
   ]
  },
  {
   "cell_type": "markdown",
   "metadata": {},
   "source": [
    "Exercise 3: \n",
    "\n",
    "Write a program to read through a mail log, build a histogram using a dictionary to count how many messages have come from each email address, and print the dictionary.\n",
    "\n",
    "```\n",
    "Enter file name: mbox-short.txt\n",
    "{'gopal.ramasammycook@gmail.com': 1, 'louis@media.berkeley.edu': 3,\n",
    "'cwen@iupui.edu': 5, 'antranig@caret.cam.ac.uk': 1,\n",
    "'rjlowe@iupui.edu': 2, 'gsilver@umich.edu': 3,\n",
    "'david.horwitz@uct.ac.za': 4, 'wagnermr@iupui.edu': 1,\n",
    "'zqian@umich.edu': 4, 'stephen.marquard@uct.ac.za': 2,\n",
    "'ray@media.berkeley.edu': 1}\n",
    "```"
   ]
  },
  {
   "cell_type": "code",
   "execution_count": 5,
   "metadata": {},
   "outputs": [
    {
     "name": "stdout",
     "output_type": "stream",
     "text": [
      "Working on file:  mbox-short.txt\n",
      "{'stephen.marquard@uct.ac.za': 2, 'louis@media.berkeley.edu': 3, 'zqian@umich.edu': 4, 'rjlowe@iupui.edu': 2, 'cwen@iupui.edu': 5, 'gsilver@umich.edu': 3, 'wagnermr@iupui.edu': 1, 'antranig@caret.cam.ac.uk': 1, 'gopal.ramasammycook@gmail.com': 1, 'david.horwitz@uct.ac.za': 4, 'ray@media.berkeley.edu': 1}\n"
     ]
    }
   ],
   "source": [
    "# we can also make the function read through via input\n",
    "def email_counts():\n",
    "    file_path = input(\"Enter the file name: \")\n",
    "    try:\n",
    "        print(\"Working on file: \", file_path)\n",
    "        senders_count = {}\n",
    "        with open(file_path, 'r') as file:\n",
    "            for line in file:\n",
    "                if line.startswith('From '):\n",
    "                    email = line.split()[1]\n",
    "                    senders_count[email] = senders_count.get(email, 0) + 1\n",
    "        if not senders_count:\n",
    "            return None, 0\n",
    "    except FileNotFoundError:\n",
    "        output = \"The specified file does not exist.\"\n",
    "\n",
    "    print(senders_count)\n",
    "\n",
    "email_counts()"
   ]
  },
  {
   "cell_type": "markdown",
   "metadata": {},
   "source": [
    "Exercise 4: \n",
    "\n",
    "Add code to the above program to figure out who has the most messages in the file. After all the data has been read and the dictionary has been created, look through the dictionary using a maximum loop (see Chapter 5: Maximum and minimum loops) to find who has the most messages and print how many messages the person has.\n",
    "\n",
    "```\n",
    "Enter a file name: mbox-short.txt\n",
    "cwen@iupui.edu 5\n",
    "\n",
    "Enter a file name: mbox.txt\n",
    "zqian@umich.edu 195\n",
    "```"
   ]
  },
  {
   "cell_type": "code",
   "execution_count": 4,
   "metadata": {},
   "outputs": [
    {
     "name": "stdout",
     "output_type": "stream",
     "text": [
      "Working on file:  mbox.txt\n",
      "zqian@umich.edu 195\n",
      "jlrenfro@ucdavis.edu 1\n",
      "{'stephen.marquard@uct.ac.za': 29, 'louis@media.berkeley.edu': 24, 'zqian@umich.edu': 195, 'rjlowe@iupui.edu': 90, 'cwen@iupui.edu': 158, 'gsilver@umich.edu': 28, 'wagnermr@iupui.edu': 44, 'antranig@caret.cam.ac.uk': 18, 'gopal.ramasammycook@gmail.com': 25, 'david.horwitz@uct.ac.za': 67, 'ray@media.berkeley.edu': 32, 'mmmay@indiana.edu': 161, 'stuart.freeman@et.gatech.edu': 17, 'tnguyen@iupui.edu': 6, 'chmaurer@iupui.edu': 111, 'aaronz@vt.edu': 110, 'ian@caret.cam.ac.uk': 96, 'csev@umich.edu': 19, 'jimeng@umich.edu': 93, 'josrodri@iupui.edu': 28, 'knoop@umich.edu': 5, 'bkirschn@umich.edu': 27, 'dlhaines@umich.edu': 84, 'hu2@iupui.edu': 7, 'sgithens@caret.cam.ac.uk': 43, 'arwhyte@umich.edu': 27, 'gbhatnag@umich.edu': 3, 'gjthomas@iupui.edu': 44, 'a.fish@lancaster.ac.uk': 14, 'ajpoland@iupui.edu': 48, 'lance@indiana.edu': 8, 'ssmail@indiana.edu': 5, 'jlrenfro@ucdavis.edu': 1, 'nuno@ufp.pt': 28, 'zach.thomas@txstate.edu': 17, 'ktsao@stanford.edu': 12, 'ostermmg@whitman.edu': 17, 'john.ellis@rsmart.com': 8, 'jleasia@umich.edu': 2, 'ggolden@umich.edu': 8, 'thoppaymallika@fhda.edu': 1, 'kimsooil@bu.edu': 14, 'bahollad@indiana.edu': 4, 'jzaremba@unicon.net': 9, 'mbreuker@loi.nl': 9, 'colin.clark@utoronto.ca': 1}\n"
     ]
    }
   ],
   "source": [
    "# we can also make the function read through via input\n",
    "def email_counts_max_min():\n",
    "    file_path = input(\"Enter the file name: \")\n",
    "    try:\n",
    "        print(\"Working on file: \", file_path)\n",
    "        senders_count = {}\n",
    "        with open(file_path, 'r') as file:\n",
    "            for line in file:\n",
    "                if line.startswith('From '):\n",
    "                    email = line.split()[1]\n",
    "                    senders_count[email] = senders_count.get(email, 0) + 1\n",
    "        if not senders_count:\n",
    "            return None, 0\n",
    "        frequent_sender = max(senders_count, key=senders_count.get)\n",
    "        count_max = senders_count[frequent_sender]\n",
    "        min_sender = min(senders_count, key=senders_count.get)\n",
    "        count_min = senders_count[min_sender]\n",
    "        \n",
    "        print(frequent_sender, count_max)\n",
    "        print(min_sender, count_min)\n",
    "    except FileNotFoundError:\n",
    "        output = \"The specified file does not exist.\"\n",
    "\n",
    "    print(senders_count)\n",
    "\n",
    "email_counts_max_min()"
   ]
  },
  {
   "cell_type": "markdown",
   "metadata": {},
   "source": [
    "Exercise 5: \n",
    "\n",
    "This program records the domain name (instead of the address) where the message was sent from instead of who the mail came from (i.e., the whole email address). At the end of the program, print out the contents of your dictionary.\n",
    "\n",
    "```\n",
    "python schoolcount.py\n",
    "Enter a file name: mbox-short.txt\n",
    "{'media.berkeley.edu': 4, 'uct.ac.za': 6, 'umich.edu': 7,\n",
    "'gmail.com': 1, 'caret.cam.ac.uk': 1, 'iupui.edu': 8}\n",
    "```"
   ]
  },
  {
   "cell_type": "code",
   "execution_count": 8,
   "metadata": {},
   "outputs": [
    {
     "name": "stdout",
     "output_type": "stream",
     "text": [
      "Working on file:  mbox-short.txt\n",
      "{'uct.ac.za': 6, 'media.berkeley.edu': 4, 'umich.edu': 7, 'iupui.edu': 8, 'caret.cam.ac.uk': 1, 'gmail.com': 1}\n"
     ]
    }
   ],
   "source": [
    "# we can also make the function read through via input\n",
    "def email_domain_counts():\n",
    "    file_path = input(\"Enter the file name: \")\n",
    "    try:\n",
    "        print(\"Working on file: \", file_path)\n",
    "        senders_count = {}\n",
    "        with open(file_path, 'r') as file:\n",
    "            for line in file:\n",
    "                if line.startswith('From '):\n",
    "                    email = line.split()[1]\n",
    "                    domain = email.split('@')[1]\n",
    "                    senders_count[domain] = senders_count.get(domain, 0) + 1\n",
    "        if not senders_count:\n",
    "            return None, 0\n",
    "    except FileNotFoundError:\n",
    "        output = \"The specified file does not exist.\"\n",
    "\n",
    "    print(senders_count)\n",
    "\n",
    "email_domain_counts()"
   ]
  },
  {
   "cell_type": "markdown",
   "metadata": {},
   "source": [
    "Exercise 1: \n",
    "\n",
    "Revise a previous program as follows: Read and parse the “From” lines and pull out the addresses from the line. Count the number of messages from each person using a dictionary.\n",
    "\n",
    "After all the data has been read, print the person with the most commits by creating a list of (count, email) tuples from the dictionary. Then sort the list in reverse order and print out the person who has the most commits.\n",
    "\n",
    "```\n",
    "Sample Line:\n",
    "From stephen.marquard@uct.ac.za Sat Jan  5 09:14:16 2008\n",
    "\n",
    "Enter a file name: mbox-short.txt\n",
    "cwen@iupui.edu 5\n",
    "\n",
    "Enter a file name: mbox.txt\n",
    "zqian@umich.edu 195\n",
    "```"
   ]
  },
  {
   "cell_type": "code",
   "execution_count": 9,
   "metadata": {},
   "outputs": [
    {
     "name": "stdout",
     "output_type": "stream",
     "text": [
      "Working on file:  mbox.txt\n",
      "Person with the most commits: zqian@umich.edu (195 commits)\n"
     ]
    }
   ],
   "source": [
    "def most_commits():\n",
    "    file_path = input(\"Enter the file name: \")\n",
    "    try:\n",
    "        print(\"Working on file: \", file_path)\n",
    "        sender_count = {}\n",
    "        with open(file_path, 'r') as file:\n",
    "            for line in file:\n",
    "                if line.startswith('From '):\n",
    "                    email = line.split()[1]\n",
    "                    sender_count[email] = sender_count.get(email, 0) + 1\n",
    "\n",
    "        # Convert the dictionary to a list of (count, email) tuples\n",
    "        count_email_list = [(count, email) for email, count in sender_count.items()]\n",
    "        # Sort the list in reverse order by count\n",
    "        count_email_list.sort(reverse=True)\n",
    "\n",
    "        if count_email_list:\n",
    "            # Print the person with the most commits\n",
    "            print(f\"Person with the most commits: {count_email_list[0][1]} ({count_email_list[0][0]} commits)\")\n",
    "        else:\n",
    "            print(\"No data found.\")\n",
    "\n",
    "    except FileNotFoundError:\n",
    "        print(\"The specified file does not exist.\")\n",
    "\n",
    "most_commits()"
   ]
  },
  {
   "cell_type": "markdown",
   "metadata": {},
   "source": [
    "Exercise 2: \n",
    "\n",
    "This program counts the distribution of the hour of the day for each of the messages. You can pull the hour from the “From” line by finding the time string and then splitting that string into parts using the colon character. Once you have accumulated the counts for each hour, print out the counts, one per line, sorted by hour as shown below.\n",
    "\n",
    "```\n",
    "python timeofday.py\n",
    "Enter a file name: mbox-short.txt\n",
    "04 3\n",
    "06 1\n",
    "07 1\n",
    "09 2\n",
    "10 3\n",
    "11 6\n",
    "14 1\n",
    "15 2\n",
    "16 4\n",
    "17 2\n",
    "18 1\n",
    "19 1\n",
    "```"
   ]
  },
  {
   "cell_type": "code",
   "execution_count": 10,
   "metadata": {},
   "outputs": [
    {
     "name": "stdout",
     "output_type": "stream",
     "text": [
      "Working on file:  mbox-short.txt\n",
      "04 3\n",
      "06 1\n",
      "07 1\n",
      "09 2\n",
      "10 3\n",
      "11 6\n",
      "14 1\n",
      "15 2\n",
      "16 4\n",
      "17 2\n",
      "18 1\n",
      "19 1\n"
     ]
    }
   ],
   "source": [
    "def count_hours():\n",
    "    file_path = input(\"Enter the file name: \")\n",
    "    try:\n",
    "        print(\"Working on file: \", file_path)\n",
    "        hour_count = {}\n",
    "        with open(file_path, 'r') as file:\n",
    "            for line in file:\n",
    "                if line.startswith('From '):\n",
    "                    parts = line.split()\n",
    "                    time = parts[5]  # Extract the time part\n",
    "                    hour = time.split(':')[0]  # Extract the hour\n",
    "                    hour_count[hour] = hour_count.get(hour, 0) + 1\n",
    "\n",
    "        # Sort the hours and print counts\n",
    "        for hour in sorted(hour_count):\n",
    "            print(hour, hour_count[hour])\n",
    "\n",
    "    except FileNotFoundError:\n",
    "        print(\"The specified file does not exist.\")\n",
    "\n",
    "count_hours()"
   ]
  },
  {
   "cell_type": "markdown",
   "metadata": {},
   "source": [
    "Exercise 3: Write a program that reads a file and prints the letters in decreasing order of frequency.\n",
    "\n",
    "Your program should convert all the input to lower case and only count the letters a-z. Your program should not count spaces, digits, punctuation, or anything other than the letters a-z. Find text samples from several different languages and see how letter frequency varies between languages. Compare your results with the tables at https://wikipedia.org/wiki/Letter_frequencies.\n",
    "\n"
   ]
  },
  {
   "cell_type": "code",
   "execution_count": 11,
   "metadata": {},
   "outputs": [
    {
     "name": "stdout",
     "output_type": "stream",
     "text": [
      "e 5436\n",
      "a 5223\n",
      "i 4494\n",
      "o 4174\n",
      "r 4064\n",
      "t 4050\n",
      "s 3738\n",
      "u 3123\n",
      "c 3088\n",
      "n 2575\n",
      "p 2497\n",
      "m 2436\n",
      "d 2004\n",
      "l 1832\n",
      "h 1392\n",
      "f 1257\n",
      "k 1167\n",
      "b 1134\n",
      "g 1027\n",
      "v 997\n",
      "j 959\n",
      "y 643\n",
      "w 586\n",
      "x 482\n",
      "z 78\n",
      "q 57\n"
     ]
    }
   ],
   "source": [
    "def letter_frequency(file_path):\n",
    "    try:\n",
    "        letter_count = {}\n",
    "        with open(file_path, 'r') as file:\n",
    "            for line in file:\n",
    "                for char in line.lower():\n",
    "                    if char.isalpha():  # Check if the character is a letter\n",
    "                        letter_count[char] = letter_count.get(char, 0) + 1\n",
    "\n",
    "        # Create a sorted list of (letter, frequency) tuples\n",
    "        sorted_letter_count = sorted(letter_count.items(), key=lambda x: x[1], reverse=True)\n",
    "\n",
    "        for letter, count in sorted_letter_count:\n",
    "            print(letter, count)\n",
    "\n",
    "    except FileNotFoundError:\n",
    "        print(\"The specified file does not exist.\")\n",
    "\n",
    "# Example usage\n",
    "file_name = input(\"Enter the file name: \")\n",
    "letter_frequency(file_name)"
   ]
  },
  {
   "cell_type": "code",
   "execution_count": null,
   "metadata": {},
   "outputs": [],
   "source": []
  }
 ],
 "metadata": {
  "kernelspec": {
   "display_name": "Python 3",
   "language": "python",
   "name": "python3"
  },
  "language_info": {
   "codemirror_mode": {
    "name": "ipython",
    "version": 3
   },
   "file_extension": ".py",
   "mimetype": "text/x-python",
   "name": "python",
   "nbconvert_exporter": "python",
   "pygments_lexer": "ipython3",
   "version": "3.8.10"
  }
 },
 "nbformat": 4,
 "nbformat_minor": 2
}
