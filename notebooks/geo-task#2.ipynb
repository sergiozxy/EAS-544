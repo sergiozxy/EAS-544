{
 "cells": [
  {
   "cell_type": "code",
   "execution_count": 1,
   "id": "2fc7fb96",
   "metadata": {},
   "outputs": [],
   "source": [
    "import pandas as pd\n",
    "from geopy.geocoders import Nominatim\n",
    "from geopy.extra.rate_limiter import RateLimiter\n",
    "import os\n",
    "from fake_useragent import UserAgent\n",
    "ua = UserAgent()\n",
    "\n",
    "# Generate a random user-agent\n",
    "user_agent = ua.random\n",
    "# change working directory\n",
    "os.chdir('../')"
   ]
  },
  {
   "cell_type": "code",
   "execution_count": 6,
   "id": "c2025e63",
   "metadata": {},
   "outputs": [
    {
     "data": {
      "text/plain": [
       "Index(['FID', 'Id', 'Address', 'City', 'County', 'State', 'Zip', 'Country'], dtype='object')"
      ]
     },
     "execution_count": 6,
     "metadata": {},
     "output_type": "execute_result"
    }
   ],
   "source": [
    "data = pd.read_csv(r\"flint_multifields.csv\")\n",
    "data.columns"
   ]
  },
  {
   "cell_type": "code",
   "execution_count": 7,
   "id": "aa52b7f2",
   "metadata": {},
   "outputs": [
    {
     "name": "stdout",
     "output_type": "stream",
     "text": [
      "                  Address                                     point\n",
      "0      911 Wickes Park Dr                    (43.39628, -83.963774)\n",
      "1       812 N Harrison St  (43.423422816326536, -83.95881675510203)\n",
      "2    9102 Copper Ridge Dr                                      None\n",
      "3         4713 N State Rd   (43.07599524060151, -83.51819213533835)\n",
      "4       4252 McCormick Dr                                      None\n",
      "..                    ...                                       ...\n",
      "361      6309 Reinbold Rd                                      None\n",
      "362    125 W Lakeview Ave   (42.99336087755102, -83.67766304081633)\n",
      "363      1146 Devenish Ln   (43.01474876694289, -83.76545120712565)\n",
      "364   2159 Stonesthrow Dr    (43.08916551596486, -83.3782444663096)\n",
      "365     6239 Muirfield Dr                                      None\n",
      "\n",
      "[366 rows x 2 columns]\n"
     ]
    }
   ],
   "source": [
    "geolocator = Nominatim(user_agent=user_agent)\n",
    "\n",
    "# Increase min_delay_seconds if needed and set a higher timeout for geocode requests\n",
    "geocode = RateLimiter(geolocator.geocode, min_delay_seconds=1, error_wait_seconds=10)\n",
    "\n",
    "def full_address(row):\n",
    "    return f\"{row['Address']}, {row['City']}, {row['County']}, {row['State']}, {row['Zip']}, {row['Country']}\"\n",
    "\n",
    "# Assuming 'data' is your DataFrame\n",
    "data['location'] = data.apply(lambda row: geocode(full_address(row), timeout=10), axis=1)\n",
    "data['point'] = data['location'].apply(lambda loc: (loc.latitude, loc.longitude) if loc else None)\n",
    "\n",
    "print(data[['Address', 'point']])"
   ]
  },
  {
   "cell_type": "code",
   "execution_count": 8,
   "id": "6fc49174",
   "metadata": {},
   "outputs": [],
   "source": [
    "data.to_csv('flint_geocoded_revised.csv', index = False)"
   ]
  },
  {
   "cell_type": "code",
   "execution_count": 10,
   "id": "e19e0393",
   "metadata": {},
   "outputs": [
    {
     "data": {
      "text/plain": [
       "FID           0\n",
       "Id            0\n",
       "Address       0\n",
       "City          0\n",
       "County        0\n",
       "State         0\n",
       "Zip           0\n",
       "Country       0\n",
       "location    175\n",
       "point       175\n",
       "dtype: int64"
      ]
     },
     "execution_count": 10,
     "metadata": {},
     "output_type": "execute_result"
    }
   ],
   "source": [
    "data.isnull().sum()"
   ]
  },
  {
   "cell_type": "code",
   "execution_count": null,
   "id": "deaf54be",
   "metadata": {},
   "outputs": [],
   "source": []
  }
 ],
 "metadata": {
  "kernelspec": {
   "display_name": "Python 3 (ipykernel)",
   "language": "python",
   "name": "python3"
  },
  "language_info": {
   "codemirror_mode": {
    "name": "ipython",
    "version": 3
   },
   "file_extension": ".py",
   "mimetype": "text/x-python",
   "name": "python",
   "nbconvert_exporter": "python",
   "pygments_lexer": "ipython3",
   "version": "3.8.10"
  }
 },
 "nbformat": 4,
 "nbformat_minor": 5
}
