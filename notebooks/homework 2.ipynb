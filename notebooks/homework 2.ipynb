{
 "cells": [
  {
   "cell_type": "markdown",
   "metadata": {},
   "source": [
    "# Homework 2\n",
    "\n",
    "Author: *Xuyuan Zhang*; Time: *Jan. 16. 2024*\n",
    "\n",
    "Notebook with practicing and Ch 5 Ex 1-2 and Ch 6 Ex 5-6"
   ]
  },
  {
   "cell_type": "markdown",
   "metadata": {},
   "source": [
    "Ex 1: Rewrite your pay computation to give the employee 1.5 times the hourly rate for hours worked above 40 hours.\n",
    "\n",
    "```{python}\n",
    "\n",
    "Enter Hours: 45\n",
    "Enter Rate: 10\n",
    "Pay: 475.0\n",
    "\n",
    "```"
   ]
  },
  {
   "cell_type": "code",
   "execution_count": 6,
   "metadata": {},
   "outputs": [],
   "source": [
    "def gross_pay():\n",
    "    hours = float(input(\"Enter Hours: \"))\n",
    "    rate = float(input(\"Enter Rate: \"))\n",
    "    if hours <= 40:\n",
    "        print(f\"Pay: {hours * rate}\")\n",
    "    else:    \n",
    "        print(f\"Pay: {1.5 * (hours - 40) * rate + 40 * rate}\")"
   ]
  },
  {
   "cell_type": "code",
   "execution_count": 4,
   "metadata": {},
   "outputs": [
    {
     "name": "stdout",
     "output_type": "stream",
     "text": [
      "Pay: 475.0\n"
     ]
    }
   ],
   "source": [
    "gross_pay()"
   ]
  },
  {
   "cell_type": "markdown",
   "metadata": {},
   "source": [
    "Ex 2: Rewrite your pay program using try and except so that your program handles non-numeric input gracefully by printing a message and exiting the program. The following shows two executions of the program:\n",
    "\n",
    "```\n",
    "Enter Hours: 20\n",
    "Enter Rate: nine\n",
    "Error, please enter numeric input\n",
    "\n",
    "Enter Hours: forty\n",
    "Error, please enter numeric input\n",
    "```"
   ]
  },
  {
   "cell_type": "code",
   "execution_count": 10,
   "metadata": {},
   "outputs": [],
   "source": [
    "def gross_pay_revised():\n",
    "    try:\n",
    "        hours = float(input(\"Enter Hours: \"))\n",
    "    except ValueError:\n",
    "        print(\"Error, please enter numeric input\")\n",
    "    try:\n",
    "        rate = float(input(\"Enter Rate: \"))\n",
    "    except ValueError:\n",
    "        print(\"Error, please enter numeric input\")\n",
    "    if hours <= 40:\n",
    "        print(f\"Pay: {hours * rate}\")\n",
    "    else:    \n",
    "        print(f\"Pay: {1.5 * (hours - 40) * rate + 40 * rate}\")"
   ]
  },
  {
   "cell_type": "code",
   "execution_count": 11,
   "metadata": {},
   "outputs": [
    {
     "name": "stdout",
     "output_type": "stream",
     "text": [
      "Error, please enter numeric input\n"
     ]
    },
    {
     "ename": "UnboundLocalError",
     "evalue": "local variable 'rate' referenced before assignment",
     "output_type": "error",
     "traceback": [
      "\u001b[0;31m---------------------------------------------------------------------------\u001b[0m",
      "\u001b[0;31mUnboundLocalError\u001b[0m                         Traceback (most recent call last)",
      "Cell \u001b[0;32mIn[11], line 1\u001b[0m\n\u001b[0;32m----> 1\u001b[0m \u001b[43mgross_pay_revised\u001b[49m\u001b[43m(\u001b[49m\u001b[43m)\u001b[49m\n",
      "Cell \u001b[0;32mIn[10], line 11\u001b[0m, in \u001b[0;36mgross_pay_revised\u001b[0;34m()\u001b[0m\n\u001b[1;32m      9\u001b[0m     \u001b[38;5;28mprint\u001b[39m(\u001b[38;5;124m\"\u001b[39m\u001b[38;5;124mError, please enter numeric input\u001b[39m\u001b[38;5;124m\"\u001b[39m)\n\u001b[1;32m     10\u001b[0m \u001b[38;5;28;01mif\u001b[39;00m hours \u001b[38;5;241m<\u001b[39m\u001b[38;5;241m=\u001b[39m \u001b[38;5;241m40\u001b[39m:\n\u001b[0;32m---> 11\u001b[0m     \u001b[38;5;28mprint\u001b[39m(\u001b[38;5;124mf\u001b[39m\u001b[38;5;124m\"\u001b[39m\u001b[38;5;124mPay: \u001b[39m\u001b[38;5;132;01m{\u001b[39;00mhours\u001b[38;5;250m \u001b[39m\u001b[38;5;241m*\u001b[39m\u001b[38;5;250m \u001b[39mrate\u001b[38;5;132;01m}\u001b[39;00m\u001b[38;5;124m\"\u001b[39m)\n\u001b[1;32m     12\u001b[0m \u001b[38;5;28;01melse\u001b[39;00m:    \n\u001b[1;32m     13\u001b[0m     \u001b[38;5;28mprint\u001b[39m(\u001b[38;5;124mf\u001b[39m\u001b[38;5;124m\"\u001b[39m\u001b[38;5;124mPay: \u001b[39m\u001b[38;5;132;01m{\u001b[39;00m\u001b[38;5;241m1.5\u001b[39m\u001b[38;5;250m \u001b[39m\u001b[38;5;241m*\u001b[39m\u001b[38;5;250m \u001b[39m(hours\u001b[38;5;250m \u001b[39m\u001b[38;5;241m-\u001b[39m\u001b[38;5;250m \u001b[39m\u001b[38;5;241m40\u001b[39m)\u001b[38;5;250m \u001b[39m\u001b[38;5;241m*\u001b[39m\u001b[38;5;250m \u001b[39mrate\u001b[38;5;250m \u001b[39m\u001b[38;5;241m+\u001b[39m\u001b[38;5;250m \u001b[39m\u001b[38;5;241m40\u001b[39m\u001b[38;5;250m \u001b[39m\u001b[38;5;241m*\u001b[39m\u001b[38;5;250m \u001b[39mrate\u001b[38;5;132;01m}\u001b[39;00m\u001b[38;5;124m\"\u001b[39m)\n",
      "\u001b[0;31mUnboundLocalError\u001b[0m: local variable 'rate' referenced before assignment"
     ]
    }
   ],
   "source": [
    "gross_pay_revised()"
   ]
  },
  {
   "cell_type": "markdown",
   "metadata": {},
   "source": [
    "Ex 3: Write a program to prompt for a score between 0.0 and 1.0. If the score is out of range, print an error message. If the score is between 0.0 and 1.0, print a grade using the following table:"
   ]
  },
  {
   "cell_type": "code",
   "execution_count": 13,
   "metadata": {},
   "outputs": [],
   "source": [
    "def score_grader():\n",
    "    try:\n",
    "        score = float(input(\"Enter score: \"))\n",
    "        \n",
    "        if score < 0.0 or score > 1.0:\n",
    "            print(\"Bad score\")\n",
    "        elif score >= 0.9:\n",
    "            print(\"A\")\n",
    "        elif score >= 0.8:\n",
    "            print(\"B\")\n",
    "        elif score >= 0.7:\n",
    "            print(\"C\")\n",
    "        elif score >= 0.6:\n",
    "            print(\"D\")\n",
    "        else:\n",
    "            print(\"F\")\n",
    "\n",
    "    except ValueError:\n",
    "        print(\"Bad score\")"
   ]
  },
  {
   "cell_type": "code",
   "execution_count": 15,
   "metadata": {},
   "outputs": [
    {
     "name": "stdout",
     "output_type": "stream",
     "text": [
      "F\n"
     ]
    }
   ],
   "source": [
    "score_grader()"
   ]
  },
  {
   "cell_type": "markdown",
   "metadata": {},
   "source": [
    "Ex 5: Slicing strings\n",
    "\n",
    "Take the following Python code that stores a string:\n",
    "\n",
    "```str = 'X-DSPAM-Confidence: 0.8475'```\n",
    "\n",
    "Use `find` and string slicing to extract the portion of the string after the colon character and then use the float function to convert the extracted string into a floating point number."
   ]
  },
  {
   "cell_type": "code",
   "execution_count": 17,
   "metadata": {},
   "outputs": [
    {
     "name": "stdout",
     "output_type": "stream",
     "text": [
      "0.8475\n"
     ]
    }
   ],
   "source": [
    "string_name = 'X-DSPAM-Confidence: 0.8475'\n",
    "\n",
    "# Find the colon character\n",
    "colon_position = string_name.find(':')\n",
    "\n",
    "# Slice the string after the colon character\n",
    "number_string = string_name[colon_position+1:].strip()\n",
    "\n",
    "# Convert the string to a float\n",
    "number = float(number_string)\n",
    "\n",
    "print(number)"
   ]
  },
  {
   "cell_type": "markdown",
   "metadata": {},
   "source": [
    "Ex 6: String methods\n",
    "\n",
    "Read the documentation of the string methods at https://docs.python.org/library/stdtypes.html#string-methods. You might want to experiment with some of them to make sure you understand how they work. `strip` and `replace` are particularly useful.\n",
    "\n",
    "The documentation uses a syntax that might be confusing. For example, in `find(sub[, start[, end]])`, the brackets indicate optional arguments. So sub is required, but start is optional, and if you include start, then end is optional."
   ]
  },
  {
   "cell_type": "code",
   "execution_count": 19,
   "metadata": {},
   "outputs": [
    {
     "name": "stdout",
     "output_type": "stream",
     "text": [
      "7\n",
      "-1\n",
      "Hello, welcome to the world.\n",
      "I like apples\n",
      "three three was a race horse, two two was one too.\n"
     ]
    }
   ],
   "source": [
    "text = \"Hello, welcome to the world.\"\n",
    "x = text.find(\"welcome\") # Returns 7\n",
    "\n",
    "text = \"Hello, welcome to the world.\"\n",
    "y = text.find(\"o\", 5, 10) # Returns 9\n",
    "\n",
    "text = \"    Hello, welcome to the world.     \"\n",
    "z = text.strip() # Returns \"Hello, welcome to the world.\"\n",
    "\n",
    "text = \"I like bananas\"\n",
    "u = text.replace(\"bananas\", \"apples\") # Returns \"I like apples\"\n",
    "\n",
    "text = \"one one was a race horse, two two was one too.\"\n",
    "t = text.replace(\"one\", \"three\", 2) # Returns \"three three was a race horse, two two was one too.\"\n",
    "\n",
    "print(x)\n",
    "print(y)\n",
    "print(z)\n",
    "print(u)\n",
    "print(t)"
   ]
  },
  {
   "cell_type": "code",
   "execution_count": null,
   "metadata": {},
   "outputs": [],
   "source": []
  }
 ],
 "metadata": {
  "kernelspec": {
   "display_name": "Python 3",
   "language": "python",
   "name": "python3"
  },
  "language_info": {
   "codemirror_mode": {
    "name": "ipython",
    "version": 3
   },
   "file_extension": ".py",
   "mimetype": "text/x-python",
   "name": "python",
   "nbconvert_exporter": "python",
   "pygments_lexer": "ipython3",
   "version": "3.8.10"
  }
 },
 "nbformat": 4,
 "nbformat_minor": 2
}
