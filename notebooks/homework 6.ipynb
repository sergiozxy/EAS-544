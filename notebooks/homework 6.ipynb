{
 "cells": [
  {
   "cell_type": "code",
   "execution_count": 1,
   "metadata": {},
   "outputs": [],
   "source": [
    "# https://www.codewars.com/kata/54b26b130786c9f7ed000555/train/python\n",
    "def ValidationError(Exception):\n",
    "    def __init__(self, message):\n",
    "        print(Exception)\n",
    "    \n",
    "\n",
    "class ValidationField:\n",
    "    def __init__(self, default = None, blank = False, **kwargs):\n",
    "        self.default = default\n",
    "        self.blank = blank\n",
    "        self.__dict__.update(kwargs)\n",
    "\n",
    "    def validate(self, validation):\n",
    "        if validation is None and self.blank == False:\n",
    "            raise ValidationError('Field cannot be blank')\n",
    "        \n",
    "class CharField:\n",
    "    def __init__(self, min_length = 0, max_length = None, **kwargs):\n",
    "        super.\n",
    "        self.min_length = min_length\n",
    "        self.max_length = max_length\n",
    "\n",
    "class Model:\n",
    "    def __init__(self, **kwargs):\n",
    "        self.__dict__.update(kwargs)"
   ]
  },
  {
   "cell_type": "code",
   "execution_count": 4,
   "metadata": {},
   "outputs": [
    {
     "ename": "AttributeError",
     "evalue": "type object 'Model' has no attribute 'CharField'",
     "output_type": "error",
     "traceback": [
      "\u001b[0;31m---------------------------------------------------------------------------\u001b[0m",
      "\u001b[0;31mAttributeError\u001b[0m                            Traceback (most recent call last)",
      "Cell \u001b[0;32mIn[4], line 1\u001b[0m\n\u001b[0;32m----> 1\u001b[0m \u001b[38;5;28;01mclass\u001b[39;00m \u001b[38;5;21;01mUser\u001b[39;00m(Model):\n\u001b[1;32m      2\u001b[0m     first_name \u001b[38;5;241m=\u001b[39m Model\u001b[38;5;241m.\u001b[39mCharField(max_length\u001b[38;5;241m=\u001b[39m\u001b[38;5;241m30\u001b[39m)\n",
      "Cell \u001b[0;32mIn[4], line 2\u001b[0m, in \u001b[0;36mUser\u001b[0;34m()\u001b[0m\n\u001b[1;32m      1\u001b[0m \u001b[38;5;28;01mclass\u001b[39;00m \u001b[38;5;21;01mUser\u001b[39;00m(Model):\n\u001b[0;32m----> 2\u001b[0m     first_name \u001b[38;5;241m=\u001b[39m \u001b[43mModel\u001b[49m\u001b[38;5;241;43m.\u001b[39;49m\u001b[43mCharField\u001b[49m(max_length\u001b[38;5;241m=\u001b[39m\u001b[38;5;241m30\u001b[39m)\n",
      "\u001b[0;31mAttributeError\u001b[0m: type object 'Model' has no attribute 'CharField'"
     ]
    }
   ],
   "source": [
    "class User(Model):\n",
    "    first_name = Model.CharField(max_length=30)"
   ]
  },
  {
   "cell_type": "code",
   "execution_count": 3,
   "metadata": {},
   "outputs": [
    {
     "ename": "TypeError",
     "evalue": "User() takes no arguments",
     "output_type": "error",
     "traceback": [
      "\u001b[0;31m---------------------------------------------------------------------------\u001b[0m",
      "\u001b[0;31mTypeError\u001b[0m                                 Traceback (most recent call last)",
      "Cell \u001b[0;32mIn[3], line 1\u001b[0m\n\u001b[0;32m----> 1\u001b[0m \u001b[43mUser\u001b[49m\u001b[43m(\u001b[49m\u001b[43mfirst_name\u001b[49m\u001b[38;5;241;43m=\u001b[39;49m\u001b[38;5;124;43m'\u001b[39;49m\u001b[38;5;124;43mLiam\u001b[39;49m\u001b[38;5;124;43m'\u001b[39;49m\u001b[43m)\u001b[49m\n",
      "\u001b[0;31mTypeError\u001b[0m: User() takes no arguments"
     ]
    }
   ],
   "source": [
    "User(first_name='Liam')"
   ]
  },
  {
   "cell_type": "code",
   "execution_count": null,
   "metadata": {},
   "outputs": [],
   "source": []
  }
 ],
 "metadata": {
  "kernelspec": {
   "display_name": "Python 3",
   "language": "python",
   "name": "python3"
  },
  "language_info": {
   "codemirror_mode": {
    "name": "ipython",
    "version": 3
   },
   "file_extension": ".py",
   "mimetype": "text/x-python",
   "name": "python",
   "nbconvert_exporter": "python",
   "pygments_lexer": "ipython3",
   "version": "3.8.10"
  }
 },
 "nbformat": 4,
 "nbformat_minor": 2
}
