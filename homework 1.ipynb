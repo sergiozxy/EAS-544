{
 "cells": [
  {
   "cell_type": "markdown",
   "metadata": {},
   "source": [
    "# Homework 1\n",
    "\n",
    "Notebook with practicing and Ch 1 Ex 1-9 and Ch 2 Ex 2-5"
   ]
  },
  {
   "cell_type": "markdown",
   "metadata": {},
   "source": [
    "## NOTES BEFORE PRECEEDDING\n",
    "\n",
    "I have successfully installed the arcpy from the anaconda. To use the acrpy, we should use the virtual environment named arcpy_env instead of using the base environment\n",
    "\n",
    "Furthermore, I also installed the arcgis pro. Therefore, we can deal with them simultaneously"
   ]
  },
  {
   "cell_type": "markdown",
   "metadata": {},
   "source": [
    "Ex1: What is the function of the secondary memory in a computer? \n",
    "\n",
    "Answer: **c**\n",
    "\n",
    "a) Execute all of the computation and logic of the program\n",
    "b) Retrieve web pages over the Internet\n",
    "c) Store information for the long term, even beyond a power cycle\n",
    "d) Take input from the user"
   ]
  },
  {
   "cell_type": "markdown",
   "metadata": {},
   "source": [
    "Ex2: What is a program?\n",
    "\n",
    "A set of instructions that specifies a computation."
   ]
  },
  {
   "cell_type": "markdown",
   "metadata": {},
   "source": [
    "Ex3: "
   ]
  },
  {
   "cell_type": "markdown",
   "metadata": {},
   "source": []
  },
  {
   "cell_type": "markdown",
   "metadata": {},
   "source": []
  }
 ],
 "metadata": {
  "language_info": {
   "name": "python"
  }
 },
 "nbformat": 4,
 "nbformat_minor": 2
}
