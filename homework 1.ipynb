{
 "cells": [
  {
   "cell_type": "markdown",
   "metadata": {},
   "source": [
    "# Homework 1\n",
    "\n",
    "Author: *Xuyuan Zhang*; Time: *Jan. 12. 2024*\n",
    "\n",
    "Notebook with practicing and Ch 1 Ex 1-9 and Ch 2 Ex 2-5"
   ]
  },
  {
   "cell_type": "markdown",
   "metadata": {},
   "source": [
    "## NOTES BEFORE PRECEEDDING\n",
    "\n",
    "installation from anaconda is awful. So I just decided to use the arcpy package from the *arcgis pro*. "
   ]
  },
  {
   "cell_type": "code",
   "execution_count": 18,
   "metadata": {},
   "outputs": [],
   "source": [
    "import arcpy\n",
    "import pandas as pd\n",
    "import numpy as np\n",
    "# import geopandas as gpd\n",
    "# we do not have geopandas automatically installed in arcgis pro. Leave it right here."
   ]
  },
  {
   "cell_type": "markdown",
   "metadata": {},
   "source": [
    "Ex1: What is the function of the secondary memory in a computer? \n",
    "\n",
    "Answer: **c**\n",
    "\n",
    "a) Execute all of the computation and logic of the program\n",
    "\n",
    "b) Retrieve web pages over the Internet\n",
    "\n",
    "c) Store information for the long term, even beyond a power cycle\n",
    "\n",
    "d) Take input from the user"
   ]
  },
  {
   "cell_type": "markdown",
   "metadata": {},
   "source": [
    "Ex2: What is a program?\n",
    "\n",
    "A set of instructions that specifies a computation."
   ]
  },
  {
   "cell_type": "markdown",
   "metadata": {},
   "source": [
    "Ex3: What is the difference between a compiler and an interpreter?\n",
    "\n",
    "A compiler needs to be handed the entire program in a file, and then it runs a process to translate the high-level source code into machine language and then the compiler puts the resulting machine language into a file for later execution. Intuitively, the C++ compiler translate the code to machine code directly\n",
    "\n",
    "An interpreter reads the source code of the program as written by the programmer, parses the source code, and interprets the instructions on the fly."
   ]
  },
  {
   "cell_type": "markdown",
   "metadata": {},
   "source": [
    "Ex4: Which of the following contains “machine code”?\n",
    "\n",
    "Answer: **a**\n",
    "\n",
    "a) The Python interpreter\n",
    "\n",
    "b) The keyboard\n",
    "\n",
    "c) Python source file\n",
    "\n",
    "d) A word processing document"
   ]
  },
  {
   "cell_type": "markdown",
   "metadata": {},
   "source": [
    "Ex5: What is wrong with the following code:\n",
    "\n",
    "```\n",
    ">>> primt 'Hello world!'\n",
    "File \"<stdin>\", line 1\n",
    "  primt 'Hello world!'\n",
    "                     ^\n",
    "SyntaxError: invalid syntax\n",
    ">>>\n",
    "```\n",
    "\n",
    "In python 2, it should like this\n",
    "\n",
    "```\n",
    "print 'Hello World!'\n",
    "```\n",
    "\n",
    "In python 3, it should like"
   ]
  },
  {
   "cell_type": "code",
   "execution_count": 2,
   "metadata": {},
   "outputs": [
    {
     "name": "stdout",
     "output_type": "stream",
     "text": [
      "Hello World!\n"
     ]
    }
   ],
   "source": [
    "print('Hello World!')"
   ]
  },
  {
   "cell_type": "markdown",
   "metadata": {},
   "source": [
    "Ex6: Where in the computer is a variable such as “x” stored after the following Python line finishes?\n",
    "\n",
    "```\n",
    "x = 123\n",
    "```\n",
    "\n",
    "Answer: **b**\n",
    "\n",
    "a) Central processing unit\n",
    "\n",
    "b) Main Memory\n",
    "\n",
    "c) Secondary Memory\n",
    "\n",
    "d) Input Devices\n",
    "\n",
    "e) Output Devices"
   ]
  },
  {
   "cell_type": "markdown",
   "metadata": {},
   "source": [
    "Ex7: What will the following program print out:\n",
    "\n",
    "```\n",
    "x = 43\n",
    "x = x - 1\n",
    "print(x)\n",
    "```\n",
    "\n",
    "It will be 42"
   ]
  },
  {
   "cell_type": "code",
   "execution_count": 3,
   "metadata": {},
   "outputs": [
    {
     "name": "stdout",
     "output_type": "stream",
     "text": [
      "42\n"
     ]
    }
   ],
   "source": [
    "x = 43\n",
    "x = x - 1\n",
    "print(x)"
   ]
  },
  {
   "cell_type": "markdown",
   "metadata": {},
   "source": [
    "Ex8: Explain each of the following using an example of a human capability: (1) Central processing unit, (2) Main Memory, (3) Secondary Memory, (4) Input Device, and (5) Output Device. For example, “What is the human equivalent to a Central Processing Unit”?"
   ]
  },
  {
   "cell_type": "markdown",
   "metadata": {},
   "source": [
    "Central Processing Unit (CPU): The CPU in a computer is like the brain in a human body.\n",
    "\n",
    "Main Memory (RAM): Main memory in a computer, often referred to as RAM (Random Access Memory), is like a person's short-term memory.\n",
    "\n",
    "Secondary Memory: Secondary memory, such as a hard drive or SSD, is akin to a human's long-term memory.\n",
    "\n",
    "Input Device: An input device in a computer, like a keyboard or a mouse, can be compared to the human senses (sight, hearing, touch, etc.).\n",
    "\n",
    "Output Device: Output devices in a computer, such as a monitor or printer, are similar to human communication methods, like speaking or writing."
   ]
  },
  {
   "cell_type": "markdown",
   "metadata": {},
   "source": [
    "Ex2: Write a program that uses input to prompt a user for their name and then welcomes them."
   ]
  },
  {
   "cell_type": "code",
   "execution_count": 4,
   "metadata": {},
   "outputs": [],
   "source": [
    "def welcome_user():\n",
    "    name = input(\"Enter your name: \")\n",
    "    print(f\"Hello {name}\")"
   ]
  },
  {
   "cell_type": "code",
   "execution_count": 6,
   "metadata": {},
   "outputs": [
    {
     "name": "stdout",
     "output_type": "stream",
     "text": [
      "Enter your name: Xuyuan\n",
      "Hello Xuyuan\n"
     ]
    }
   ],
   "source": [
    "welcome_user()"
   ]
  },
  {
   "cell_type": "markdown",
   "metadata": {},
   "source": [
    "Ex3: Write a program to prompt the user for hours and rate per hour to compute gross pay."
   ]
  },
  {
   "cell_type": "code",
   "execution_count": 9,
   "metadata": {},
   "outputs": [],
   "source": [
    "def gross_pay():\n",
    "    hours = float(input(\"Enter Hours: \"))\n",
    "    rate = float(input(\"Enter Rate: \"))\n",
    "    \n",
    "    print(f\"Pay: {hours * rate}\")"
   ]
  },
  {
   "cell_type": "code",
   "execution_count": 10,
   "metadata": {},
   "outputs": [
    {
     "name": "stdout",
     "output_type": "stream",
     "text": [
      "Enter Hours: 35\n",
      "Enter Rate: 2.75\n",
      "Pay: 96.25\n"
     ]
    }
   ],
   "source": [
    "gross_pay()"
   ]
  },
  {
   "cell_type": "markdown",
   "metadata": {},
   "source": [
    "Ex4: Assume that we execute the following assignment statements:\n",
    "\n",
    "```\n",
    "width = 17\n",
    "height = 12.0\n",
    "```\n",
    "\n",
    "For each of the following expressions, write the value of the expression and the type (of the value of the expression).\n",
    "\n",
    "1. width//2: 8\n",
    "\n",
    "2. width/2.0: 8.5\n",
    "\n",
    "3. height/3: 4.0\n",
    "\n",
    "4. 1 + 2 * 5: 11"
   ]
  },
  {
   "cell_type": "code",
   "execution_count": 11,
   "metadata": {},
   "outputs": [
    {
     "name": "stdout",
     "output_type": "stream",
     "text": [
      "8\n",
      "8.5\n",
      "4.0\n",
      "11\n"
     ]
    }
   ],
   "source": [
    "width = 17\n",
    "height = 12.0\n",
    "print(width // 2)\n",
    "print(width / 2.0)\n",
    "print(height / 3)\n",
    "print(1 + 2 * 5)"
   ]
  },
  {
   "cell_type": "markdown",
   "metadata": {},
   "source": [
    "Ex5: Write a program which prompts the user for a Celsius temperature, convert the temperature to Fahrenheit, and print out the converted temperature."
   ]
  },
  {
   "cell_type": "code",
   "execution_count": 13,
   "metadata": {},
   "outputs": [],
   "source": [
    "def converting_Cel_to_Fah():\n",
    "    celsius = float(input(\"Enter temperature in Celsius: \"))  # Get Celsius temperature\n",
    "    fahrenheit = (celsius * 9/5) + 32  # Convert to Fahrenheit\n",
    "    print(f\"The temperature in Fahrenheit is: {fahrenheit}\")\n",
    "\n",
    "    "
   ]
  },
  {
   "cell_type": "code",
   "execution_count": 14,
   "metadata": {},
   "outputs": [
    {
     "name": "stdout",
     "output_type": "stream",
     "text": [
      "Enter temperature in Celsius: -1\n",
      "The temperature in Fahrenheit is: 30.2\n"
     ]
    }
   ],
   "source": [
    "converting_Cel_to_Fah()"
   ]
  },
  {
   "cell_type": "code",
   "execution_count": 15,
   "metadata": {},
   "outputs": [
    {
     "name": "stdout",
     "output_type": "stream",
     "text": [
      "Enter temperature in Celsius: 30\n",
      "The temperature in Fahrenheit is: 86.0\n"
     ]
    }
   ],
   "source": [
    "converting_Cel_to_Fah()"
   ]
  },
  {
   "cell_type": "code",
   "execution_count": null,
   "metadata": {},
   "outputs": [],
   "source": []
  }
 ],
 "metadata": {
  "kernelspec": {
   "display_name": "Python 3 (ipykernel)",
   "language": "python",
   "name": "python3"
  },
  "language_info": {
   "codemirror_mode": {
    "name": "ipython",
    "version": 3
   },
   "file_extension": ".py",
   "mimetype": "text/x-python",
   "name": "python",
   "nbconvert_exporter": "python",
   "pygments_lexer": "ipython3",
   "version": "3.9.18"
  }
 },
 "nbformat": 4,
 "nbformat_minor": 2
}
