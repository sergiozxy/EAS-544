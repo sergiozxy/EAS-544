{
 "cells": [
  {
   "cell_type": "markdown",
   "metadata": {},
   "source": [
    "# BUILDING OUR DATAFRAME -- notebook 2\n",
    "\n",
    "This notebook carry out the remaining cleaning process and the remaining analysis part is on the notebook 3.\n",
    "\n",
    "Author: Xuyuan Zhang; Date: Feb. 15. 2024"
   ]
  },
  {
   "cell_type": "markdown",
   "metadata": {},
   "source": [
    "## we can try to map it here. \n",
    "\n",
    "Instead of visualizing this image right away, it is recommended to mask our region of interest as it will save computational power. Make sure the coordinate reference system (CRS) of the GeoJSON file is converted to the CRS of the RGB image created above.\n",
    "\n",
    "We now construct our interesting area:"
   ]
  },
  {
   "cell_type": "code",
   "execution_count": 1,
   "metadata": {},
   "outputs": [],
   "source": [
    "import arcpy\n",
    "import numpy as np\n",
    "import os\n",
    "import glob"
   ]
  },
  {
   "cell_type": "code",
   "execution_count": 2,
   "metadata": {},
   "outputs": [],
   "source": [
    "os.chdir(r'E:\\umich\\final project\\data')"
   ]
  },
  {
   "cell_type": "code",
   "execution_count": 3,
   "metadata": {},
   "outputs": [
    {
     "name": "stdout",
     "output_type": "stream",
     "text": [
      "Mosaic to new raster completed successfully.\n"
     ]
    }
   ],
   "source": [
    "\n",
    "input_rasters = ['S2B_MSIL2A_20230608T161829_N0509_R040_T16TGN_20230608T192144.SAFE.tiff',\n",
    "                      'S2B_MSIL2A_20230608T161829_N0509_R040_T17TKG_20230608T192144.SAFE.tiff',\n",
    "                      'S2B_MSIL2A_20230618T161829_N0509_R040_T17TLG_20230618T191812.SAFE.tiff',\n",
    "                      'S2B_MSIL2A_20230618T161829_N0509_R040_T17TLH_20230618T191812.SAFE.tiff']\n",
    "output_directory = os.getcwd() # since we already changed the drectory to where the data is.\n",
    "output_raster_name = \"mosaic.tif\"  # Name of the output mosaic raster\n",
    "\n",
    "# Specify the coordinate system using EPSG code\n",
    "coordinate_system = arcpy.SpatialReference(4326)  # EPSG code for WGS 1984\n",
    "\n",
    "# Updated parameters based on your specifications\n",
    "pixel_type = \"16_BIT_UNSIGNED\"  # For uint16 data type\n",
    "number_of_bands = 4  # For three bands\n",
    "\n",
    "# Optional parameter (customize as needed)\n",
    "mosaic_method = \"LAST\"  # Determines how the pixels from overlapping areas will be resolved\n",
    "\n",
    "# Execute MosaicToNewRaster using arcpy.management\n",
    "arcpy.management.MosaicToNewRaster(\n",
    "    input_rasters=input_rasters,\n",
    "    output_location = output_directory,\n",
    "    raster_dataset_name_with_extension=output_raster_name,\n",
    "    coordinate_system_for_the_raster=coordinate_system,\n",
    "    pixel_type=pixel_type,\n",
    "    number_of_bands=number_of_bands,\n",
    "    mosaic_method=mosaic_method\n",
    ")\n",
    "\n",
    "print(\"Mosaic to new raster completed successfully.\")\n"
   ]
  },
  {
   "cell_type": "markdown",
   "metadata": {},
   "source": [
    "## Extract the given region\n",
    "\n",
    "To speed up the calculation because our final result will be pretty large, we have to clip the raster to small areas so that we can execute the deep learning extraction faster"
   ]
  },
  {
   "cell_type": "code",
   "execution_count": 4,
   "metadata": {},
   "outputs": [],
   "source": [
    "# Assuming `input_rasters` contains paths to the TIFF files you want to clip\n",
    "output_directory = os.getcwd()\n",
    "cleaned_input = \"mosaic.tif\"\n",
    "\n",
    "clipped_raster_path = f\"{output_directory}\\\\{cleaned_input.replace('.tif', '_clipped.tif')}\"\n"
   ]
  },
  {
   "cell_type": "markdown",
   "metadata": {},
   "source": [
    "you can revise the geodatabse to make it your own"
   ]
  },
  {
   "cell_type": "code",
   "execution_count": 6,
   "metadata": {},
   "outputs": [],
   "source": [
    "# Define the path where the geodatabase should be created (adjust the path as needed)\n",
    "gdb_folder_path = \"../mask area\"  # Folder where the GDB should be created\n",
    "gdb_name = \"michigan.gdb\"  # Name of the geodatabase\n",
    "\n",
    "# Create the geodatabase\n",
    "arcpy.CreateFileGDB_management(gdb_folder_path, gdb_name)\n",
    "\n",
    "geodatabase_path = f\"{gdb_folder_path}/{gdb_name}\"\n"
   ]
  },
  {
   "cell_type": "code",
   "execution_count": 7,
   "metadata": {
    "scrolled": true
   },
   "outputs": [
    {
     "data": {
      "text/html": [
       "<div class='gpresult'><h2>Messages</h2><div id='messages' data-messages='[\"Start Time: 2024年2月16日 20:52:58\",\"Succeeded at 2024年2月16日 20:52:59 (Elapsed Time: 1.13 seconds)\"]' data-show='true'><div id = 'default' /></div></div>"
      ],
      "text/plain": [
       "<Result '..\\\\mask area\\\\michigan.gdb\\\\Detroit_Area'>"
      ]
     },
     "execution_count": 7,
     "metadata": {},
     "output_type": "execute_result"
    }
   ],
   "source": [
    "# Path to the GeoJSON file\n",
    "geojson_path = \"../mask area/detroit.json\"\n",
    "feature_class_name = 'Detroit_Area'\n",
    "\n",
    "# Convert GeoJSON to a feature class in a geodatabase\n",
    "arcpy.conversion.JSONToFeatures(geojson_path, f\"{geodatabase_path}/{feature_class_name}\")"
   ]
  },
  {
   "cell_type": "code",
   "execution_count": 8,
   "metadata": {},
   "outputs": [
    {
     "data": {
      "text/html": [
       "<div class='gpresult'><h2>Messages</h2><div id='messages' data-messages='[\"Start Time: 2024年2月16日 20:53:04\",\"Building Pyramids...\",\"Succeeded at 2024年2月16日 20:53:38 (Elapsed Time: 33.43 seconds)\"]' data-show='true'><div id = 'default' /></div></div>"
      ],
      "text/plain": [
       "<Result 'E:\\\\umich\\\\final project\\\\data\\\\mosaic_clipped.tif'>"
      ]
     },
     "execution_count": 8,
     "metadata": {},
     "output_type": "execute_result"
    }
   ],
   "source": [
    "# Perform the clipping\n",
    "arcpy.management.Clip(\n",
    "    in_raster=cleaned_input, \n",
    "    out_raster=clipped_raster_path, \n",
    "    in_template_dataset=f\"{geodatabase_path}/{feature_class_name}\",\n",
    "    clipping_geometry=\"ClippingGeometry\",\n",
    "    maintain_clipping_extent=\"NO_MAINTAIN_EXTENT\"\n",
    ")\n"
   ]
  },
  {
   "cell_type": "markdown",
   "metadata": {},
   "source": [
    "potential reference:\n",
    "\n",
    "https://old-monk.medium.com/a-precise-guide-to-investigate-sentinel-2-data-in-python-downloading-visualizing-2cc8d9d60021\n",
    "\n",
    "https://ieeexplore.ieee.org/document/10144166"
   ]
  }
 ],
 "metadata": {
  "kernelspec": {
   "display_name": "Python 3 (ipykernel)",
   "language": "python",
   "name": "python3"
  },
  "language_info": {
   "codemirror_mode": {
    "name": "ipython",
    "version": 3
   },
   "file_extension": ".py",
   "mimetype": "text/x-python",
   "name": "python",
   "nbconvert_exporter": "python",
   "pygments_lexer": "ipython3",
   "version": "3.9.18"
  }
 },
 "nbformat": 4,
 "nbformat_minor": 2
}
