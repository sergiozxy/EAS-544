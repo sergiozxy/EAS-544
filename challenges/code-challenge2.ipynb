{
 "cells": [
  {
   "cell_type": "markdown",
   "metadata": {},
   "source": [
    "# Code Challenge 3\n",
    "\n",
    "## Jan 24 2024"
   ]
  },
  {
   "cell_type": "code",
   "execution_count": 46,
   "metadata": {},
   "outputs": [],
   "source": [
    "# we first need to set the working directory\n",
    "import os\n",
    "import urllib.request\n",
    "from IPython.display import display, HTML\n",
    "\n",
    "# you need to change the directory to your own path\n",
    "os.chdir(r\"/home/xuyuan/Desktop/EAS 544/EAS-544/data\")\n"
   ]
  },
  {
   "cell_type": "code",
   "execution_count": 2,
   "metadata": {},
   "outputs": [
    {
     "name": "stdout",
     "output_type": "stream",
     "text": [
      "mbox-short.txt has been downloaded successfully.\n",
      "mbox.txt has been downloaded successfully.\n",
      "romeo.txt has been downloaded successfully.\n"
     ]
    }
   ],
   "source": [
    "def download_files(url, file_name):\n",
    "    # Check if the file already exists\n",
    "    if os.path.exists(file_name):\n",
    "        print(f\"The file {file_name} already exists.\")\n",
    "        return\n",
    "    \n",
    "    # now in the directory we can download the files via http\n",
    "    headers = {\n",
    "        'User-Agent': 'Mozilla/5.0 (Windows NT 10.0; Win64; x64) AppleWebKit/537.36 (KHTML, like Gecko) Chrome/58.0.3029.110 Safari/537.'\n",
    "    }\n",
    "\n",
    "    req = urllib.request.Request(url, data=None, headers=headers)\n",
    "    with urllib.request.urlopen(req) as response:\n",
    "       # Read the response as bytes\n",
    "       file_data = response.read()\n",
    "\n",
    "    # Now let's save the file locally\n",
    "    with open(file_name, 'wb') as f:\n",
    "       f.write(file_data)\n",
    "\n",
    "    print(f\"{file_name} has been downloaded successfully.\")\n",
    "\n",
    "url = \"https://www.py4e.com/code3/mbox-short.txt\"\n",
    "url2 = \"https://www.py4e.com/code3/mbox.txt\"\n",
    "url3 = \"https://www.py4e.com/code3/romeo.txt\"\n",
    "file_name1 = \"mbox-short.txt\"\n",
    "file_name2 = \"mbox.txt\"\n",
    "file_name3 = \"romeo.txt\"\n",
    "\n",
    "download_files(url, file_name1)\n",
    "download_files(url2, file_name2)\n",
    "download_files(url3, file_name3)"
   ]
  },
  {
   "cell_type": "code",
   "execution_count": 3,
   "metadata": {},
   "outputs": [],
   "source": [
    "data = open(\"mbox-short.txt\")"
   ]
  },
  {
   "cell_type": "markdown",
   "metadata": {},
   "source": [
    "In the first light of dawn, Tom, bleary-eyed, discovered his email inbox overflowing. Curiosity piqued, he decided to identify the sender contributing most significantly to the influx of messages. He quickly installed the python, but realized that he can't program at all. In this case, help him to read the exported \"mbox.txt\" file and find out the most frequent senders!\n",
    "\n",
    "(hint: Extracting sender email addresses is like the exercise, you can select those that start with \"From \" and create a list of all email senders, then use nested for loops or any other technique to count them!)\n",
    "\n",
    "some of the functions may be helpful `count()`, for example:\n",
    "\n",
    "```\n",
    "# create a list\n",
    "numbers = [2, 3, 5, 2, 11, 2, 7]\n",
    "\n",
    "# check the count of 2\n",
    "count = numbers.count(2)\n",
    "\n",
    "print('Count of 2:', count)\n",
    "\n",
    "# Output: Count of 2: 3\n",
    "\n",
    "```\n",
    "\n",
    "(more hints: https://www.geeksforgeeks.org/python-find-most-frequent-element-in-a-list/)\n",
    "\n",
    "PS. you can try to create a `dictionary`, and this is a more efficient way!"
   ]
  },
  {
   "cell_type": "code",
   "execution_count": 42,
   "metadata": {},
   "outputs": [
    {
     "data": {
      "text/plain": [
       "('zqian@umich.edu', 195)"
      ]
     },
     "execution_count": 42,
     "metadata": {},
     "output_type": "execute_result"
    }
   ],
   "source": [
    "# a good method using list operation\n",
    "def find_most_frequent_sender_only_list(file_path):\n",
    "    senders = []  # List to store all sender emails\n",
    "\n",
    "    with open(file_path, 'r') as file:\n",
    "        for line in file:\n",
    "            if line.startswith('From '):\n",
    "                email = line.split()[1]\n",
    "                senders.append(email)\n",
    "\n",
    "    # Count the frequency of each sender using only list\n",
    "    most_frequent_sender = None\n",
    "    max_count = 0\n",
    "    for email in senders:\n",
    "        count = senders.count(email)\n",
    "        # for debugging\n",
    "        # if count > 10:\n",
    "        #    print(email, count)\n",
    "        if count > max_count:\n",
    "            most_frequent_sender = email\n",
    "            max_count = count\n",
    "            # for debugging\n",
    "            # print(max_count)\n",
    "\n",
    "    return most_frequent_sender, max_count\n",
    "\n",
    "\n",
    "# Find the most frequent sender using list\n",
    "most_frequent_sender, sender_count = find_most_frequent_sender_only_list(\"mbox.txt\")\n",
    "\n",
    "most_frequent_sender, sender_count\n"
   ]
  },
  {
   "cell_type": "code",
   "execution_count": 43,
   "metadata": {},
   "outputs": [
    {
     "data": {
      "text/plain": [
       "('zqian@umich.edu', 195)"
      ]
     },
     "execution_count": 43,
     "metadata": {},
     "output_type": "execute_result"
    }
   ],
   "source": [
    "# a very complicated method that do not recommend!\n",
    "def find_most_frequent_sender_list(file_path):\n",
    "    senders = []  # List to store all senders\n",
    "\n",
    "    with open(file_path, 'r') as file:\n",
    "        for line in file:\n",
    "            if line.startswith('From '):\n",
    "                email = line.split()[1]\n",
    "                senders.append(email)\n",
    "\n",
    "    # Count the frequency of each sender\n",
    "    senders_count = []\n",
    "    for sender in set(senders):\n",
    "        count = senders.count(sender)\n",
    "        senders_count.append((sender, count))\n",
    "\n",
    "    # Find the most frequent sender\n",
    "    senders_count.sort(key=lambda x: x[1], reverse=True)\n",
    "    most_frequent_sender = senders_count[0] if senders_count else (None, 0)\n",
    "\n",
    "    return most_frequent_sender\n",
    "\n",
    "# Find the most frequent sender using list\n",
    "most_frequent_sender, sender_count = find_most_frequent_sender_list(\"mbox.txt\")\n",
    "\n",
    "most_frequent_sender, sender_count\n",
    "\n"
   ]
  },
  {
   "cell_type": "code",
   "execution_count": 45,
   "metadata": {},
   "outputs": [
    {
     "data": {
      "text/plain": [
       "('zqian@umich.edu', 195)"
      ]
     },
     "execution_count": 45,
     "metadata": {},
     "output_type": "execute_result"
    }
   ],
   "source": [
    "def find_most_frequent_sender(file_path):\n",
    "    senders_count = {}  # Dictionary to count the frequency of each sender\n",
    "\n",
    "    with open(file_path, 'r') as file:\n",
    "        for line in file:\n",
    "            if line.startswith('From '):\n",
    "                email = line.split()[1]\n",
    "                senders_count[email] = senders_count.get(email, 0) + 1\n",
    "\n",
    "    # Find the most frequent sender\n",
    "    if not senders_count:\n",
    "        return None, 0\n",
    "\n",
    "    frequent_sender = max(senders_count, key=senders_count.get)\n",
    "    count = senders_count[frequent_sender]\n",
    "\n",
    "    return frequent_sender, count\n",
    "\n",
    "# Find the most frequent sender in the mbox-short.txt file\n",
    "most_frequent_sender, sender_count = find_most_frequent_sender(\"mbox.txt\")\n",
    "\n",
    "most_frequent_sender, sender_count"
   ]
  },
  {
   "cell_type": "code",
   "execution_count": null,
   "metadata": {},
   "outputs": [],
   "source": []
  }
 ],
 "metadata": {
  "kernelspec": {
   "display_name": "Python 3",
   "language": "python",
   "name": "python3"
  },
  "language_info": {
   "codemirror_mode": {
    "name": "ipython",
    "version": 3
   },
   "file_extension": ".py",
   "mimetype": "text/x-python",
   "name": "python",
   "nbconvert_exporter": "python",
   "pygments_lexer": "ipython3",
   "version": "3.8.10"
  }
 },
 "nbformat": 4,
 "nbformat_minor": 2
}
